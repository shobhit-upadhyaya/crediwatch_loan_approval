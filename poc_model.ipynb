{
 "cells": [
  {
   "cell_type": "code",
   "execution_count": 49,
   "metadata": {},
   "outputs": [],
   "source": [
    "import pandas as pd\n",
    "import numpy as np\n",
    "import seaborn as sns\n",
    "import matplotlib.pyplot as plt\n",
    "%matplotlib inline\n",
    "\n",
    "import ipywidgets as widgets\n",
    "from ipywidgets import interact, interact_manual"
   ]
  },
  {
   "cell_type": "code",
   "execution_count": 461,
   "metadata": {},
   "outputs": [],
   "source": [
    "df = pd.read_csv('./data_set.csv')"
   ]
  },
  {
   "cell_type": "code",
   "execution_count": 462,
   "metadata": {},
   "outputs": [
    {
     "data": {
      "text/html": [
       "<div>\n",
       "<style scoped>\n",
       "    .dataframe tbody tr th:only-of-type {\n",
       "        vertical-align: middle;\n",
       "    }\n",
       "\n",
       "    .dataframe tbody tr th {\n",
       "        vertical-align: top;\n",
       "    }\n",
       "\n",
       "    .dataframe thead th {\n",
       "        text-align: right;\n",
       "    }\n",
       "</style>\n",
       "<table border=\"1\" class=\"dataframe\">\n",
       "  <thead>\n",
       "    <tr style=\"text-align: right;\">\n",
       "      <th></th>\n",
       "      <th>CIN</th>\n",
       "      <th>COMPANY NAME</th>\n",
       "      <th>DATE OF REGISTRATION</th>\n",
       "      <th>MONTH NAME</th>\n",
       "      <th>STATE</th>\n",
       "      <th>ROC</th>\n",
       "      <th>COMPANY STATUS</th>\n",
       "      <th>CATEGORY</th>\n",
       "      <th>CLASS</th>\n",
       "      <th>COMPANY TYPE</th>\n",
       "      <th>...</th>\n",
       "      <th>REGISTERED OFFICE ADDRESS</th>\n",
       "      <th>EMAIL</th>\n",
       "      <th>x1</th>\n",
       "      <th>x2</th>\n",
       "      <th>x3</th>\n",
       "      <th>x4</th>\n",
       "      <th>x5</th>\n",
       "      <th>Unnamed: 21</th>\n",
       "      <th>Unnamed: 22</th>\n",
       "      <th>Unnamed: 23</th>\n",
       "    </tr>\n",
       "  </thead>\n",
       "  <tbody>\n",
       "    <tr>\n",
       "      <th>0</th>\n",
       "      <td>U93000GJ2020NPL111833</td>\n",
       "      <td>SADBHAVNA SEVA FOUNDATION</td>\n",
       "      <td>2020-01-02</td>\n",
       "      <td>January</td>\n",
       "      <td>Gujarat</td>\n",
       "      <td>RoC-Ahmedabad</td>\n",
       "      <td>Active</td>\n",
       "      <td>Company Limited by Guarantee</td>\n",
       "      <td>Private</td>\n",
       "      <td>Non-government</td>\n",
       "      <td>...</td>\n",
       "      <td>SHEETAL PARK, BEHIND RAMBHA MA VADI HIMAT NAGA...</td>\n",
       "      <td>manavsevacharitable@gmail.com</td>\n",
       "      <td>0.1150545664</td>\n",
       "      <td>0.0623619642</td>\n",
       "      <td>0.3396891476</td>\n",
       "      <td>0.794017</td>\n",
       "      <td>0.084716</td>\n",
       "      <td>NaN</td>\n",
       "      <td>NaN</td>\n",
       "      <td>NaN</td>\n",
       "    </tr>\n",
       "    <tr>\n",
       "      <th>1</th>\n",
       "      <td>U80902PN2020NPL188861</td>\n",
       "      <td>MARATHE EDUCATION FOUNDATION</td>\n",
       "      <td>2020-01-03</td>\n",
       "      <td>January</td>\n",
       "      <td>Maharashtra</td>\n",
       "      <td>RoC-Pune</td>\n",
       "      <td>Active</td>\n",
       "      <td>Company Limited by Guarantee</td>\n",
       "      <td>Private</td>\n",
       "      <td>Non-government</td>\n",
       "      <td>...</td>\n",
       "      <td>H. NO. 1075, NIGOJE CHAKAN CHAKAN, PUNE Pune-4...</td>\n",
       "      <td>cahanu2010@gmail.com</td>\n",
       "      <td>0.6090665393</td>\n",
       "      <td>0.7684897917</td>\n",
       "      <td>0.7805393148</td>\n",
       "      <td>0.462632</td>\n",
       "      <td>0.589200</td>\n",
       "      <td>NaN</td>\n",
       "      <td>NaN</td>\n",
       "      <td>NaN</td>\n",
       "    </tr>\n",
       "    <tr>\n",
       "      <th>2</th>\n",
       "      <td>U85300BR2020NPL044916</td>\n",
       "      <td>EKTA RELIEF SOCIAL FEDERATION</td>\n",
       "      <td>2020-01-08</td>\n",
       "      <td>January</td>\n",
       "      <td>Bihar</td>\n",
       "      <td>RoC-Patna</td>\n",
       "      <td>Active</td>\n",
       "      <td>Company Limited by Guarantee</td>\n",
       "      <td>Private</td>\n",
       "      <td>Non-government</td>\n",
       "      <td>...</td>\n",
       "      <td>Village - Patsara Post - Patsara Thana-Piear, ...</td>\n",
       "      <td>ekta.relief@gmail.com</td>\n",
       "      <td>0.1333909642</td>\n",
       "      <td>0.3161716186</td>\n",
       "      <td>0.4454043982</td>\n",
       "      <td>0.657944</td>\n",
       "      <td>0.500774</td>\n",
       "      <td>NaN</td>\n",
       "      <td>NaN</td>\n",
       "      <td>NaN</td>\n",
       "    </tr>\n",
       "    <tr>\n",
       "      <th>3</th>\n",
       "      <td>U85100MH2020NPL335745</td>\n",
       "      <td>HEMATOLOGY CANCER CONSORTIUM - ASSOCIATION</td>\n",
       "      <td>2020-01-09</td>\n",
       "      <td>January</td>\n",
       "      <td>Maharashtra</td>\n",
       "      <td>RoC-Mumbai</td>\n",
       "      <td>Active</td>\n",
       "      <td>Company Limited by Guarantee</td>\n",
       "      <td>Private</td>\n",
       "      <td>Non-government</td>\n",
       "      <td>...</td>\n",
       "      <td>Room 1116, Homi Bhabha Block, Tata Memorial Ho...</td>\n",
       "      <td>hemecancer@gmail.com</td>\n",
       "      <td>0.24058962</td>\n",
       "      <td>0.8983263027</td>\n",
       "      <td>0.6081922144</td>\n",
       "      <td>0.556470</td>\n",
       "      <td>0.704707</td>\n",
       "      <td>NaN</td>\n",
       "      <td>NaN</td>\n",
       "      <td>NaN</td>\n",
       "    </tr>\n",
       "    <tr>\n",
       "      <th>4</th>\n",
       "      <td>U80900MH2020NPL335760</td>\n",
       "      <td>VANITA VIDYA E-S FOUNDATION</td>\n",
       "      <td>2020-01-09</td>\n",
       "      <td>January</td>\n",
       "      <td>Maharashtra</td>\n",
       "      <td>RoC-Mumbai</td>\n",
       "      <td>Active</td>\n",
       "      <td>Company Limited by Guarantee</td>\n",
       "      <td>Private</td>\n",
       "      <td>Non-government</td>\n",
       "      <td>...</td>\n",
       "      <td>406, Himgiri Neelkanth VIH, Sec-R-1 CTS-503, S...</td>\n",
       "      <td>ganeshchambavane@gmail.com</td>\n",
       "      <td>0.3271390558</td>\n",
       "      <td>0.1035592211</td>\n",
       "      <td>0.9872073557</td>\n",
       "      <td>0.886845</td>\n",
       "      <td>0.344866</td>\n",
       "      <td>NaN</td>\n",
       "      <td>NaN</td>\n",
       "      <td>NaN</td>\n",
       "    </tr>\n",
       "  </tbody>\n",
       "</table>\n",
       "<p>5 rows × 24 columns</p>\n",
       "</div>"
      ],
      "text/plain": [
       "                     CIN                                COMPANY NAME  \\\n",
       "0  U93000GJ2020NPL111833                   SADBHAVNA SEVA FOUNDATION   \n",
       "1  U80902PN2020NPL188861                MARATHE EDUCATION FOUNDATION   \n",
       "2  U85300BR2020NPL044916               EKTA RELIEF SOCIAL FEDERATION   \n",
       "3  U85100MH2020NPL335745  HEMATOLOGY CANCER CONSORTIUM - ASSOCIATION   \n",
       "4  U80900MH2020NPL335760                 VANITA VIDYA E-S FOUNDATION   \n",
       "\n",
       "  DATE OF REGISTRATION MONTH NAME        STATE            ROC COMPANY STATUS  \\\n",
       "0           2020-01-02    January      Gujarat  RoC-Ahmedabad         Active   \n",
       "1           2020-01-03    January  Maharashtra       RoC-Pune         Active   \n",
       "2           2020-01-08    January        Bihar      RoC-Patna         Active   \n",
       "3           2020-01-09    January  Maharashtra     RoC-Mumbai         Active   \n",
       "4           2020-01-09    January  Maharashtra     RoC-Mumbai         Active   \n",
       "\n",
       "                       CATEGORY    CLASS    COMPANY TYPE     ...       \\\n",
       "0  Company Limited by Guarantee  Private  Non-government     ...        \n",
       "1  Company Limited by Guarantee  Private  Non-government     ...        \n",
       "2  Company Limited by Guarantee  Private  Non-government     ...        \n",
       "3  Company Limited by Guarantee  Private  Non-government     ...        \n",
       "4  Company Limited by Guarantee  Private  Non-government     ...        \n",
       "\n",
       "                           REGISTERED OFFICE ADDRESS  \\\n",
       "0  SHEETAL PARK, BEHIND RAMBHA MA VADI HIMAT NAGA...   \n",
       "1  H. NO. 1075, NIGOJE CHAKAN CHAKAN, PUNE Pune-4...   \n",
       "2  Village - Patsara Post - Patsara Thana-Piear, ...   \n",
       "3  Room 1116, Homi Bhabha Block, Tata Memorial Ho...   \n",
       "4  406, Himgiri Neelkanth VIH, Sec-R-1 CTS-503, S...   \n",
       "\n",
       "                           EMAIL            x1            x2            x3  \\\n",
       "0  manavsevacharitable@gmail.com  0.1150545664  0.0623619642  0.3396891476   \n",
       "1           cahanu2010@gmail.com  0.6090665393  0.7684897917  0.7805393148   \n",
       "2          ekta.relief@gmail.com  0.1333909642  0.3161716186  0.4454043982   \n",
       "3           hemecancer@gmail.com    0.24058962  0.8983263027  0.6081922144   \n",
       "4     ganeshchambavane@gmail.com  0.3271390558  0.1035592211  0.9872073557   \n",
       "\n",
       "         x4        x5 Unnamed: 21 Unnamed: 22  Unnamed: 23  \n",
       "0  0.794017  0.084716         NaN         NaN          NaN  \n",
       "1  0.462632  0.589200         NaN         NaN          NaN  \n",
       "2  0.657944  0.500774         NaN         NaN          NaN  \n",
       "3  0.556470  0.704707         NaN         NaN          NaN  \n",
       "4  0.886845  0.344866         NaN         NaN          NaN  \n",
       "\n",
       "[5 rows x 24 columns]"
      ]
     },
     "execution_count": 462,
     "metadata": {},
     "output_type": "execute_result"
    }
   ],
   "source": [
    "df.head()"
   ]
  },
  {
   "cell_type": "code",
   "execution_count": 52,
   "metadata": {},
   "outputs": [
    {
     "data": {
      "text/plain": [
       "CIN                              0\n",
       "COMPANY NAME                     0\n",
       "DATE OF REGISTRATION             0\n",
       "MONTH NAME                       0\n",
       "STATE                            0\n",
       "ROC                              0\n",
       "COMPANY STATUS                   0\n",
       "CATEGORY                         0\n",
       "CLASS                            0\n",
       "COMPANY TYPE                     0\n",
       "AUTHORIZED CAPITAL               0\n",
       "PAIDUP CAPITAL                   0\n",
       "ACTIVITY CODE                    0\n",
       "ACTIVITY DESCRIPTION             0\n",
       "REGISTERED OFFICE ADDRESS        0\n",
       "EMAIL                            0\n",
       "x1                               0\n",
       "x2                               0\n",
       "x3                               0\n",
       "x4                               0\n",
       "x5                               0\n",
       "Unnamed: 21                  12737\n",
       "Unnamed: 22                  12744\n",
       "Unnamed: 23                  12747\n",
       "dtype: int64"
      ]
     },
     "execution_count": 52,
     "metadata": {},
     "output_type": "execute_result"
    }
   ],
   "source": [
    "df.isnull().sum()"
   ]
  },
  {
   "cell_type": "code",
   "execution_count": 53,
   "metadata": {},
   "outputs": [],
   "source": [
    "df.drop(['Unnamed: 21','Unnamed: 22','Unnamed: 23'], axis=1, inplace=True)"
   ]
  },
  {
   "cell_type": "code",
   "execution_count": 54,
   "metadata": {},
   "outputs": [
    {
     "name": "stdout",
     "output_type": "stream",
     "text": [
      "<class 'pandas.core.frame.DataFrame'>\n",
      "RangeIndex: 12749 entries, 0 to 12748\n",
      "Data columns (total 21 columns):\n",
      "CIN                          12749 non-null object\n",
      "COMPANY NAME                 12749 non-null object\n",
      "DATE OF REGISTRATION         12749 non-null object\n",
      "MONTH NAME                   12749 non-null object\n",
      "STATE                        12749 non-null object\n",
      "ROC                          12749 non-null object\n",
      "COMPANY STATUS               12749 non-null object\n",
      "CATEGORY                     12749 non-null object\n",
      "CLASS                        12749 non-null object\n",
      "COMPANY TYPE                 12749 non-null object\n",
      "AUTHORIZED CAPITAL           12749 non-null int64\n",
      "PAIDUP CAPITAL               12749 non-null int64\n",
      "ACTIVITY CODE                12749 non-null int64\n",
      "ACTIVITY DESCRIPTION         12749 non-null object\n",
      "REGISTERED OFFICE ADDRESS    12749 non-null object\n",
      "EMAIL                        12749 non-null object\n",
      "x1                           12749 non-null object\n",
      "x2                           12749 non-null object\n",
      "x3                           12749 non-null object\n",
      "x4                           12749 non-null float64\n",
      "x5                           12749 non-null float64\n",
      "dtypes: float64(2), int64(3), object(16)\n",
      "memory usage: 2.0+ MB\n"
     ]
    }
   ],
   "source": [
    "df.info()"
   ]
  },
  {
   "cell_type": "code",
   "execution_count": 55,
   "metadata": {},
   "outputs": [],
   "source": [
    "import datetime"
   ]
  },
  {
   "cell_type": "code",
   "execution_count": 56,
   "metadata": {},
   "outputs": [],
   "source": [
    "today = datetime.datetime.now()"
   ]
  },
  {
   "cell_type": "code",
   "execution_count": 57,
   "metadata": {},
   "outputs": [
    {
     "data": {
      "text/plain": [
       "datetime.datetime(2020, 2, 15, 17, 34, 14, 872650)"
      ]
     },
     "execution_count": 57,
     "metadata": {},
     "output_type": "execute_result"
    }
   ],
   "source": [
    "today"
   ]
  },
  {
   "cell_type": "code",
   "execution_count": 58,
   "metadata": {},
   "outputs": [],
   "source": [
    "df['DATE OF REGISTRATION'] = pd.to_datetime(df['DATE OF REGISTRATION'])"
   ]
  },
  {
   "cell_type": "code",
   "execution_count": 59,
   "metadata": {},
   "outputs": [],
   "source": [
    "df['COMPANY_AGE'] = df['DATE OF REGISTRATION'].apply(lambda x: (today - x).days)"
   ]
  },
  {
   "cell_type": "code",
   "execution_count": 60,
   "metadata": {},
   "outputs": [],
   "source": [
    "df['YEAR'] = df['DATE OF REGISTRATION'].apply(lambda x: x.year)"
   ]
  },
  {
   "cell_type": "code",
   "execution_count": 61,
   "metadata": {},
   "outputs": [
    {
     "data": {
      "text/html": [
       "<div>\n",
       "<style scoped>\n",
       "    .dataframe tbody tr th:only-of-type {\n",
       "        vertical-align: middle;\n",
       "    }\n",
       "\n",
       "    .dataframe tbody tr th {\n",
       "        vertical-align: top;\n",
       "    }\n",
       "\n",
       "    .dataframe thead th {\n",
       "        text-align: right;\n",
       "    }\n",
       "</style>\n",
       "<table border=\"1\" class=\"dataframe\">\n",
       "  <thead>\n",
       "    <tr style=\"text-align: right;\">\n",
       "      <th></th>\n",
       "      <th>CIN</th>\n",
       "      <th>COMPANY NAME</th>\n",
       "      <th>DATE OF REGISTRATION</th>\n",
       "      <th>MONTH NAME</th>\n",
       "      <th>STATE</th>\n",
       "      <th>ROC</th>\n",
       "      <th>COMPANY STATUS</th>\n",
       "      <th>CATEGORY</th>\n",
       "      <th>CLASS</th>\n",
       "      <th>COMPANY TYPE</th>\n",
       "      <th>...</th>\n",
       "      <th>ACTIVITY DESCRIPTION</th>\n",
       "      <th>REGISTERED OFFICE ADDRESS</th>\n",
       "      <th>EMAIL</th>\n",
       "      <th>x1</th>\n",
       "      <th>x2</th>\n",
       "      <th>x3</th>\n",
       "      <th>x4</th>\n",
       "      <th>x5</th>\n",
       "      <th>COMPANY_AGE</th>\n",
       "      <th>YEAR</th>\n",
       "    </tr>\n",
       "  </thead>\n",
       "  <tbody>\n",
       "    <tr>\n",
       "      <th>0</th>\n",
       "      <td>U93000GJ2020NPL111833</td>\n",
       "      <td>SADBHAVNA SEVA FOUNDATION</td>\n",
       "      <td>2020-01-02</td>\n",
       "      <td>January</td>\n",
       "      <td>Gujarat</td>\n",
       "      <td>RoC-Ahmedabad</td>\n",
       "      <td>Active</td>\n",
       "      <td>Company Limited by Guarantee</td>\n",
       "      <td>Private</td>\n",
       "      <td>Non-government</td>\n",
       "      <td>...</td>\n",
       "      <td>Community, personal &amp; Social Services</td>\n",
       "      <td>SHEETAL PARK, BEHIND RAMBHA MA VADI HIMAT NAGA...</td>\n",
       "      <td>manavsevacharitable@gmail.com</td>\n",
       "      <td>0.1150545664</td>\n",
       "      <td>0.0623619642</td>\n",
       "      <td>0.3396891476</td>\n",
       "      <td>0.794017</td>\n",
       "      <td>0.084716</td>\n",
       "      <td>44</td>\n",
       "      <td>2020</td>\n",
       "    </tr>\n",
       "    <tr>\n",
       "      <th>1</th>\n",
       "      <td>U80902PN2020NPL188861</td>\n",
       "      <td>MARATHE EDUCATION FOUNDATION</td>\n",
       "      <td>2020-01-03</td>\n",
       "      <td>January</td>\n",
       "      <td>Maharashtra</td>\n",
       "      <td>RoC-Pune</td>\n",
       "      <td>Active</td>\n",
       "      <td>Company Limited by Guarantee</td>\n",
       "      <td>Private</td>\n",
       "      <td>Non-government</td>\n",
       "      <td>...</td>\n",
       "      <td>Community, personal &amp; Social Services</td>\n",
       "      <td>H. NO. 1075, NIGOJE CHAKAN CHAKAN, PUNE Pune-4...</td>\n",
       "      <td>cahanu2010@gmail.com</td>\n",
       "      <td>0.6090665393</td>\n",
       "      <td>0.7684897917</td>\n",
       "      <td>0.7805393148</td>\n",
       "      <td>0.462632</td>\n",
       "      <td>0.589200</td>\n",
       "      <td>43</td>\n",
       "      <td>2020</td>\n",
       "    </tr>\n",
       "    <tr>\n",
       "      <th>2</th>\n",
       "      <td>U85300BR2020NPL044916</td>\n",
       "      <td>EKTA RELIEF SOCIAL FEDERATION</td>\n",
       "      <td>2020-01-08</td>\n",
       "      <td>January</td>\n",
       "      <td>Bihar</td>\n",
       "      <td>RoC-Patna</td>\n",
       "      <td>Active</td>\n",
       "      <td>Company Limited by Guarantee</td>\n",
       "      <td>Private</td>\n",
       "      <td>Non-government</td>\n",
       "      <td>...</td>\n",
       "      <td>Community, personal &amp; Social Services</td>\n",
       "      <td>Village - Patsara Post - Patsara Thana-Piear, ...</td>\n",
       "      <td>ekta.relief@gmail.com</td>\n",
       "      <td>0.1333909642</td>\n",
       "      <td>0.3161716186</td>\n",
       "      <td>0.4454043982</td>\n",
       "      <td>0.657944</td>\n",
       "      <td>0.500774</td>\n",
       "      <td>38</td>\n",
       "      <td>2020</td>\n",
       "    </tr>\n",
       "    <tr>\n",
       "      <th>3</th>\n",
       "      <td>U85100MH2020NPL335745</td>\n",
       "      <td>HEMATOLOGY CANCER CONSORTIUM - ASSOCIATION</td>\n",
       "      <td>2020-01-09</td>\n",
       "      <td>January</td>\n",
       "      <td>Maharashtra</td>\n",
       "      <td>RoC-Mumbai</td>\n",
       "      <td>Active</td>\n",
       "      <td>Company Limited by Guarantee</td>\n",
       "      <td>Private</td>\n",
       "      <td>Non-government</td>\n",
       "      <td>...</td>\n",
       "      <td>Community, personal &amp; Social Services</td>\n",
       "      <td>Room 1116, Homi Bhabha Block, Tata Memorial Ho...</td>\n",
       "      <td>hemecancer@gmail.com</td>\n",
       "      <td>0.24058962</td>\n",
       "      <td>0.8983263027</td>\n",
       "      <td>0.6081922144</td>\n",
       "      <td>0.556470</td>\n",
       "      <td>0.704707</td>\n",
       "      <td>37</td>\n",
       "      <td>2020</td>\n",
       "    </tr>\n",
       "    <tr>\n",
       "      <th>4</th>\n",
       "      <td>U80900MH2020NPL335760</td>\n",
       "      <td>VANITA VIDYA E-S FOUNDATION</td>\n",
       "      <td>2020-01-09</td>\n",
       "      <td>January</td>\n",
       "      <td>Maharashtra</td>\n",
       "      <td>RoC-Mumbai</td>\n",
       "      <td>Active</td>\n",
       "      <td>Company Limited by Guarantee</td>\n",
       "      <td>Private</td>\n",
       "      <td>Non-government</td>\n",
       "      <td>...</td>\n",
       "      <td>Community, personal &amp; Social Services</td>\n",
       "      <td>406, Himgiri Neelkanth VIH, Sec-R-1 CTS-503, S...</td>\n",
       "      <td>ganeshchambavane@gmail.com</td>\n",
       "      <td>0.3271390558</td>\n",
       "      <td>0.1035592211</td>\n",
       "      <td>0.9872073557</td>\n",
       "      <td>0.886845</td>\n",
       "      <td>0.344866</td>\n",
       "      <td>37</td>\n",
       "      <td>2020</td>\n",
       "    </tr>\n",
       "  </tbody>\n",
       "</table>\n",
       "<p>5 rows × 23 columns</p>\n",
       "</div>"
      ],
      "text/plain": [
       "                     CIN                                COMPANY NAME  \\\n",
       "0  U93000GJ2020NPL111833                   SADBHAVNA SEVA FOUNDATION   \n",
       "1  U80902PN2020NPL188861                MARATHE EDUCATION FOUNDATION   \n",
       "2  U85300BR2020NPL044916               EKTA RELIEF SOCIAL FEDERATION   \n",
       "3  U85100MH2020NPL335745  HEMATOLOGY CANCER CONSORTIUM - ASSOCIATION   \n",
       "4  U80900MH2020NPL335760                 VANITA VIDYA E-S FOUNDATION   \n",
       "\n",
       "  DATE OF REGISTRATION MONTH NAME        STATE            ROC COMPANY STATUS  \\\n",
       "0           2020-01-02    January      Gujarat  RoC-Ahmedabad         Active   \n",
       "1           2020-01-03    January  Maharashtra       RoC-Pune         Active   \n",
       "2           2020-01-08    January        Bihar      RoC-Patna         Active   \n",
       "3           2020-01-09    January  Maharashtra     RoC-Mumbai         Active   \n",
       "4           2020-01-09    January  Maharashtra     RoC-Mumbai         Active   \n",
       "\n",
       "                       CATEGORY    CLASS    COMPANY TYPE  ...   \\\n",
       "0  Company Limited by Guarantee  Private  Non-government  ...    \n",
       "1  Company Limited by Guarantee  Private  Non-government  ...    \n",
       "2  Company Limited by Guarantee  Private  Non-government  ...    \n",
       "3  Company Limited by Guarantee  Private  Non-government  ...    \n",
       "4  Company Limited by Guarantee  Private  Non-government  ...    \n",
       "\n",
       "                    ACTIVITY DESCRIPTION  \\\n",
       "0  Community, personal & Social Services   \n",
       "1  Community, personal & Social Services   \n",
       "2  Community, personal & Social Services   \n",
       "3  Community, personal & Social Services   \n",
       "4  Community, personal & Social Services   \n",
       "\n",
       "                           REGISTERED OFFICE ADDRESS  \\\n",
       "0  SHEETAL PARK, BEHIND RAMBHA MA VADI HIMAT NAGA...   \n",
       "1  H. NO. 1075, NIGOJE CHAKAN CHAKAN, PUNE Pune-4...   \n",
       "2  Village - Patsara Post - Patsara Thana-Piear, ...   \n",
       "3  Room 1116, Homi Bhabha Block, Tata Memorial Ho...   \n",
       "4  406, Himgiri Neelkanth VIH, Sec-R-1 CTS-503, S...   \n",
       "\n",
       "                           EMAIL            x1            x2            x3  \\\n",
       "0  manavsevacharitable@gmail.com  0.1150545664  0.0623619642  0.3396891476   \n",
       "1           cahanu2010@gmail.com  0.6090665393  0.7684897917  0.7805393148   \n",
       "2          ekta.relief@gmail.com  0.1333909642  0.3161716186  0.4454043982   \n",
       "3           hemecancer@gmail.com    0.24058962  0.8983263027  0.6081922144   \n",
       "4     ganeshchambavane@gmail.com  0.3271390558  0.1035592211  0.9872073557   \n",
       "\n",
       "         x4        x5 COMPANY_AGE  YEAR  \n",
       "0  0.794017  0.084716          44  2020  \n",
       "1  0.462632  0.589200          43  2020  \n",
       "2  0.657944  0.500774          38  2020  \n",
       "3  0.556470  0.704707          37  2020  \n",
       "4  0.886845  0.344866          37  2020  \n",
       "\n",
       "[5 rows x 23 columns]"
      ]
     },
     "execution_count": 61,
     "metadata": {},
     "output_type": "execute_result"
    }
   ],
   "source": [
    "df.head()"
   ]
  },
  {
   "cell_type": "code",
   "execution_count": 62,
   "metadata": {},
   "outputs": [
    {
     "data": {
      "text/plain": [
       "Index(['CIN', 'COMPANY NAME', 'DATE OF REGISTRATION', 'MONTH NAME', 'STATE',\n",
       "       'ROC', 'COMPANY STATUS', 'CATEGORY', 'CLASS', 'COMPANY TYPE',\n",
       "       'AUTHORIZED CAPITAL', 'PAIDUP CAPITAL', 'ACTIVITY CODE',\n",
       "       'ACTIVITY DESCRIPTION', 'REGISTERED OFFICE ADDRESS', 'EMAIL', 'x1',\n",
       "       'x2', 'x3', 'x4', 'x5', 'COMPANY_AGE', 'YEAR'],\n",
       "      dtype='object')"
      ]
     },
     "execution_count": 62,
     "metadata": {},
     "output_type": "execute_result"
    }
   ],
   "source": [
    "df.columns"
   ]
  },
  {
   "cell_type": "code",
   "execution_count": 63,
   "metadata": {},
   "outputs": [],
   "source": [
    "df = df.loc[df['x1'].apply(lambda x: x[0].isdigit())]"
   ]
  },
  {
   "cell_type": "code",
   "execution_count": 64,
   "metadata": {},
   "outputs": [],
   "source": [
    "for col in ['x1','x2','x3','x4','x5']:\n",
    "    df[col] = df[col].apply(lambda x: float(x))"
   ]
  },
  {
   "cell_type": "code",
   "execution_count": 286,
   "metadata": {},
   "outputs": [],
   "source": [
    "selected_features = [#'CIN', \n",
    "                     #'COMPANY NAME', \n",
    "                     #'DATE OF REGISTRATION', \n",
    "#                     'MONTH NAME', \n",
    "                    'STATE',\n",
    "                    'ROC', \n",
    "                    'COMPANY STATUS', \n",
    "                    'CATEGORY', \n",
    "                    'CLASS', \n",
    "                    'COMPANY TYPE',\n",
    "#                     'AUTHORIZED CAPITAL', \n",
    "#                     'PAIDUP CAPITAL', \n",
    "#                     'ACTIVITY CODE',\n",
    "                    'ACTIVITY DESCRIPTION', \n",
    "                    #'REGISTERED OFFICE ADDRESS', \n",
    "                    #'EMAIL', \n",
    "#                     'x1',\n",
    "#                     'x2', \n",
    "#                     'x3', \n",
    "#                     'x4', \n",
    "#                     'x5', \n",
    "#                     'COMPANY_AGE', \n",
    "#                     'YEAR'\n",
    "]"
   ]
  },
  {
   "cell_type": "code",
   "execution_count": 236,
   "metadata": {},
   "outputs": [],
   "source": [
    "X_transformed = pd.get_dummies(df[selected_features])"
   ]
  },
  {
   "cell_type": "code",
   "execution_count": 237,
   "metadata": {},
   "outputs": [
    {
     "data": {
      "text/plain": [
       "(12737, 88)"
      ]
     },
     "execution_count": 237,
     "metadata": {},
     "output_type": "execute_result"
    }
   ],
   "source": [
    "X_transformed.shape"
   ]
  },
  {
   "cell_type": "code",
   "execution_count": null,
   "metadata": {},
   "outputs": [],
   "source": []
  },
  {
   "cell_type": "code",
   "execution_count": 238,
   "metadata": {},
   "outputs": [],
   "source": [
    "from sklearn.decomposition import PCA\n",
    "from sklearn.preprocessing import StandardScaler"
   ]
  },
  {
   "cell_type": "code",
   "execution_count": 239,
   "metadata": {},
   "outputs": [],
   "source": [
    "pca = PCA(n_components=2)\n",
    "standard_scaler = StandardScaler()"
   ]
  },
  {
   "cell_type": "code",
   "execution_count": 240,
   "metadata": {},
   "outputs": [],
   "source": [
    "X_scaled = standard_scaler.fit_transform(X_transformed)"
   ]
  },
  {
   "cell_type": "code",
   "execution_count": 241,
   "metadata": {},
   "outputs": [
    {
     "data": {
      "text/plain": [
       "PCA(copy=True, iterated_power='auto', n_components=2, random_state=None,\n",
       "  svd_solver='auto', tol=0.0, whiten=False)"
      ]
     },
     "execution_count": 241,
     "metadata": {},
     "output_type": "execute_result"
    }
   ],
   "source": [
    "pca.fit(X_scaled)"
   ]
  },
  {
   "cell_type": "code",
   "execution_count": 242,
   "metadata": {},
   "outputs": [],
   "source": [
    "X_pca = pca.transform(X_scaled)"
   ]
  },
  {
   "cell_type": "code",
   "execution_count": 243,
   "metadata": {},
   "outputs": [
    {
     "data": {
      "text/plain": [
       "array([0.02769027, 0.02655882])"
      ]
     },
     "execution_count": 243,
     "metadata": {},
     "output_type": "execute_result"
    }
   ],
   "source": [
    "pca.explained_variance_ratio_"
   ]
  },
  {
   "cell_type": "code",
   "execution_count": 244,
   "metadata": {},
   "outputs": [],
   "source": [
    "pca_df = pd.DataFrame(X_pca, columns=['pc1','pc2'])"
   ]
  },
  {
   "cell_type": "code",
   "execution_count": 245,
   "metadata": {},
   "outputs": [
    {
     "name": "stderr",
     "output_type": "stream",
     "text": [
      "/home/shobhit/anaconda3/lib/python3.5/site-packages/seaborn/regression.py:546: UserWarning: The `size` paramter has been renamed to `height`; please update your code.\n",
      "  warnings.warn(msg, UserWarning)\n"
     ]
    },
    {
     "data": {
      "text/plain": [
       "<seaborn.axisgrid.FacetGrid at 0x7f944e5cb630>"
      ]
     },
     "execution_count": 245,
     "metadata": {},
     "output_type": "execute_result"
    },
    {
     "data": {
      "image/png": "[encoded data removed]",
      "text/plain": [
       "<matplotlib.figure.Figure at 0x7f944e5cb390>"
      ]
     },
     "metadata": {},
     "output_type": "display_data"
    }
   ],
   "source": [
    "sns.lmplot(x='pc1',y='pc2',data=pca_df, size=10, fit_reg=False)"
   ]
  },
  {
   "cell_type": "code",
   "execution_count": null,
   "metadata": {},
   "outputs": [],
   "source": []
  },
  {
   "cell_type": "code",
   "execution_count": 246,
   "metadata": {},
   "outputs": [],
   "source": [
    "from sklearn.cluster import KMeans\n",
    "from sklearn.metrics import silhouette_samples, silhouette_score"
   ]
  },
  {
   "cell_type": "code",
   "execution_count": 290,
   "metadata": {},
   "outputs": [
    {
     "data": {
      "text/plain": [
       "(12737, 88)"
      ]
     },
     "execution_count": 290,
     "metadata": {},
     "output_type": "execute_result"
    }
   ],
   "source": [
    "X_transformed.shape"
   ]
  },
  {
   "cell_type": "code",
   "execution_count": 252,
   "metadata": {},
   "outputs": [
    {
     "name": "stdout",
     "output_type": "stream",
     "text": [
      "25 13197.297996160254\n",
      "25 0.37255163028307225\n",
      "\n",
      "26 12831.899241763726\n",
      "26 0.35603042227193593\n",
      "\n",
      "27 12244.907079025888\n",
      "27 0.37989904190054247\n",
      "\n",
      "28 12261.363658827413\n",
      "28 0.37087130315546674\n",
      "\n",
      "29 12243.657232783891\n",
      "29 0.3437660896891096\n",
      "\n",
      "30 12058.465099555644\n",
      "30 0.34527586593480036\n",
      "\n",
      "31 11660.924562332393\n",
      "31 0.37498308105304407\n",
      "\n",
      "32 11591.976800115\n",
      "32 0.3690388174321694\n",
      "\n",
      "33 11522.045459911333\n",
      "33 0.360003556996367\n",
      "\n",
      "34 11234.554508186244\n",
      "34 0.39210198310045974\n",
      "\n",
      "35 11199.209729407998\n",
      "35 0.3793607715667661\n",
      "\n",
      "36 11089.273198232764\n",
      "36 0.40392343971104705\n",
      "\n",
      "37 10864.325671977615\n",
      "37 0.4013312918613193\n",
      "\n",
      "38 10845.479733409007\n",
      "38 0.38001382758655883\n",
      "\n",
      "39 10629.701193059398\n",
      "39 0.39339623115574174\n",
      "\n",
      "40 10669.473804337307\n",
      "40 0.39086373880298286\n",
      "\n",
      "41 10368.86653952461\n",
      "41 0.4128550531413731\n",
      "\n",
      "42 10091.230390731134\n",
      "42 0.40431326953597535\n",
      "\n",
      "43 10021.086829570657\n",
      "43 0.4300318501410012\n",
      "\n",
      "44 10150.127410281428\n",
      "44 0.3937705385673387\n",
      "\n",
      "45 10050.616001759423\n",
      "45 0.4104167552198162\n",
      "\n",
      "46 9727.552373487964\n",
      "46 0.41809982792257294\n",
      "\n",
      "47 9719.773724634797\n",
      "47 0.43867078628600187\n",
      "\n",
      "48 9619.436089857414\n",
      "48 0.4172888626749932\n",
      "\n",
      "49 9662.221627213821\n",
      "49 0.4160987509984365\n",
      "\n"
     ]
    }
   ],
   "source": [
    "silhouette_scores = []\n",
    "scores = []\n",
    "\n",
    "for cluster in range(25,50):\n",
    "    km = KMeans(n_clusters=cluster, )\n",
    "    model = km.fit(X_transformed)\n",
    "    \n",
    "    # compute the average within-cluster distances.\n",
    "    score = np.abs(model.score(X_transformed))\n",
    "\n",
    "    scores.append(score)\n",
    "    print(cluster, score)\n",
    "    \n",
    "    cluster_labels = model.predict(X_transformed)\n",
    "    silhouette_avg = silhouette_score(X_transformed, cluster_labels)\n",
    "    print(cluster,silhouette_avg)\n",
    "    silhouette_scores.append(silhouette_avg)\n",
    "    print()\n",
    "    "
   ]
  },
  {
   "cell_type": "code",
   "execution_count": 259,
   "metadata": {},
   "outputs": [],
   "source": [
    "centers = list(range(25,50))\n",
    "\n",
    "optimal_cluster = centers[np.argsort(silhouette_scores)[-1]]"
   ]
  },
  {
   "cell_type": "code",
   "execution_count": 254,
   "metadata": {},
   "outputs": [],
   "source": [
    "# # Investigate the change in within-cluster distance across number of clusters.\n",
    "# # HINT: Use matplotlib's plot function to visualize this relationship.\n",
    "# plt.figure(figsize=(15,7))\n",
    "# plt.plot(centers, scores, linestyle='--', marker='o', color='b');\n",
    "# plt.xlabel('K');\n",
    "# plt.ylabel('Average distance to cluster center');\n",
    "# plt.title('Average distance vs. K');"
   ]
  },
  {
   "cell_type": "code",
   "execution_count": 260,
   "metadata": {},
   "outputs": [],
   "source": [
    "# optimal_cluster = 3"
   ]
  },
  {
   "cell_type": "code",
   "execution_count": 261,
   "metadata": {},
   "outputs": [],
   "source": [
    "km = KMeans(n_clusters=optimal_cluster)"
   ]
  },
  {
   "cell_type": "code",
   "execution_count": 262,
   "metadata": {},
   "outputs": [
    {
     "data": {
      "text/plain": [
       "KMeans(algorithm='auto', copy_x=True, init='k-means++', max_iter=300,\n",
       "    n_clusters=47, n_init=10, n_jobs=1, precompute_distances='auto',\n",
       "    random_state=None, tol=0.0001, verbose=0)"
      ]
     },
     "execution_count": 262,
     "metadata": {},
     "output_type": "execute_result"
    }
   ],
   "source": [
    "km.fit(X_transformed)"
   ]
  },
  {
   "cell_type": "code",
   "execution_count": 263,
   "metadata": {},
   "outputs": [],
   "source": [
    "df['clusters_optimal_cluster'] = km.predict(X_transformed)"
   ]
  },
  {
   "cell_type": "code",
   "execution_count": 264,
   "metadata": {},
   "outputs": [
    {
     "data": {
      "text/html": [
       "<div>\n",
       "<style scoped>\n",
       "    .dataframe tbody tr th:only-of-type {\n",
       "        vertical-align: middle;\n",
       "    }\n",
       "\n",
       "    .dataframe tbody tr th {\n",
       "        vertical-align: top;\n",
       "    }\n",
       "\n",
       "    .dataframe thead th {\n",
       "        text-align: right;\n",
       "    }\n",
       "</style>\n",
       "<table border=\"1\" class=\"dataframe\">\n",
       "  <thead>\n",
       "    <tr style=\"text-align: right;\">\n",
       "      <th></th>\n",
       "      <th>CIN</th>\n",
       "      <th>COMPANY NAME</th>\n",
       "      <th>DATE OF REGISTRATION</th>\n",
       "      <th>MONTH NAME</th>\n",
       "      <th>STATE</th>\n",
       "      <th>ROC</th>\n",
       "      <th>COMPANY STATUS</th>\n",
       "      <th>CATEGORY</th>\n",
       "      <th>CLASS</th>\n",
       "      <th>COMPANY TYPE</th>\n",
       "      <th>...</th>\n",
       "      <th>x3</th>\n",
       "      <th>x4</th>\n",
       "      <th>x5</th>\n",
       "      <th>COMPANY_AGE</th>\n",
       "      <th>YEAR</th>\n",
       "      <th>clusters</th>\n",
       "      <th>clusters_3</th>\n",
       "      <th>clusters_2</th>\n",
       "      <th>LOAN_SCORE</th>\n",
       "      <th>clusters_optimal_cluster</th>\n",
       "    </tr>\n",
       "  </thead>\n",
       "  <tbody>\n",
       "    <tr>\n",
       "      <th>0</th>\n",
       "      <td>U93000GJ2020NPL111833</td>\n",
       "      <td>SADBHAVNA SEVA FOUNDATION</td>\n",
       "      <td>2020-01-02</td>\n",
       "      <td>January</td>\n",
       "      <td>Gujarat</td>\n",
       "      <td>RoC-Ahmedabad</td>\n",
       "      <td>Active</td>\n",
       "      <td>Company Limited by Guarantee</td>\n",
       "      <td>Private</td>\n",
       "      <td>Non-government</td>\n",
       "      <td>...</td>\n",
       "      <td>0.339689</td>\n",
       "      <td>0.794017</td>\n",
       "      <td>0.084716</td>\n",
       "      <td>44</td>\n",
       "      <td>2020</td>\n",
       "      <td>0</td>\n",
       "      <td>0</td>\n",
       "      <td>0</td>\n",
       "      <td>2.829542</td>\n",
       "      <td>14</td>\n",
       "    </tr>\n",
       "    <tr>\n",
       "      <th>1</th>\n",
       "      <td>U80902PN2020NPL188861</td>\n",
       "      <td>MARATHE EDUCATION FOUNDATION</td>\n",
       "      <td>2020-01-03</td>\n",
       "      <td>January</td>\n",
       "      <td>Maharashtra</td>\n",
       "      <td>RoC-Pune</td>\n",
       "      <td>Active</td>\n",
       "      <td>Company Limited by Guarantee</td>\n",
       "      <td>Private</td>\n",
       "      <td>Non-government</td>\n",
       "      <td>...</td>\n",
       "      <td>0.780539</td>\n",
       "      <td>0.462632</td>\n",
       "      <td>0.589200</td>\n",
       "      <td>43</td>\n",
       "      <td>2020</td>\n",
       "      <td>0</td>\n",
       "      <td>0</td>\n",
       "      <td>0</td>\n",
       "      <td>3.440859</td>\n",
       "      <td>13</td>\n",
       "    </tr>\n",
       "    <tr>\n",
       "      <th>2</th>\n",
       "      <td>U85300BR2020NPL044916</td>\n",
       "      <td>EKTA RELIEF SOCIAL FEDERATION</td>\n",
       "      <td>2020-01-08</td>\n",
       "      <td>January</td>\n",
       "      <td>Bihar</td>\n",
       "      <td>RoC-Patna</td>\n",
       "      <td>Active</td>\n",
       "      <td>Company Limited by Guarantee</td>\n",
       "      <td>Private</td>\n",
       "      <td>Non-government</td>\n",
       "      <td>...</td>\n",
       "      <td>0.445404</td>\n",
       "      <td>0.657944</td>\n",
       "      <td>0.500774</td>\n",
       "      <td>38</td>\n",
       "      <td>2020</td>\n",
       "      <td>0</td>\n",
       "      <td>0</td>\n",
       "      <td>0</td>\n",
       "      <td>3.094512</td>\n",
       "      <td>12</td>\n",
       "    </tr>\n",
       "    <tr>\n",
       "      <th>3</th>\n",
       "      <td>U85100MH2020NPL335745</td>\n",
       "      <td>HEMATOLOGY CANCER CONSORTIUM - ASSOCIATION</td>\n",
       "      <td>2020-01-09</td>\n",
       "      <td>January</td>\n",
       "      <td>Maharashtra</td>\n",
       "      <td>RoC-Mumbai</td>\n",
       "      <td>Active</td>\n",
       "      <td>Company Limited by Guarantee</td>\n",
       "      <td>Private</td>\n",
       "      <td>Non-government</td>\n",
       "      <td>...</td>\n",
       "      <td>0.608192</td>\n",
       "      <td>0.556470</td>\n",
       "      <td>0.704707</td>\n",
       "      <td>37</td>\n",
       "      <td>2020</td>\n",
       "      <td>0</td>\n",
       "      <td>0</td>\n",
       "      <td>0</td>\n",
       "      <td>3.621075</td>\n",
       "      <td>26</td>\n",
       "    </tr>\n",
       "    <tr>\n",
       "      <th>4</th>\n",
       "      <td>U80900MH2020NPL335760</td>\n",
       "      <td>VANITA VIDYA E-S FOUNDATION</td>\n",
       "      <td>2020-01-09</td>\n",
       "      <td>January</td>\n",
       "      <td>Maharashtra</td>\n",
       "      <td>RoC-Mumbai</td>\n",
       "      <td>Active</td>\n",
       "      <td>Company Limited by Guarantee</td>\n",
       "      <td>Private</td>\n",
       "      <td>Non-government</td>\n",
       "      <td>...</td>\n",
       "      <td>0.987207</td>\n",
       "      <td>0.886845</td>\n",
       "      <td>0.344866</td>\n",
       "      <td>37</td>\n",
       "      <td>2020</td>\n",
       "      <td>0</td>\n",
       "      <td>0</td>\n",
       "      <td>0</td>\n",
       "      <td>3.836504</td>\n",
       "      <td>26</td>\n",
       "    </tr>\n",
       "  </tbody>\n",
       "</table>\n",
       "<p>5 rows × 28 columns</p>\n",
       "</div>"
      ],
      "text/plain": [
       "                     CIN                                COMPANY NAME  \\\n",
       "0  U93000GJ2020NPL111833                   SADBHAVNA SEVA FOUNDATION   \n",
       "1  U80902PN2020NPL188861                MARATHE EDUCATION FOUNDATION   \n",
       "2  U85300BR2020NPL044916               EKTA RELIEF SOCIAL FEDERATION   \n",
       "3  U85100MH2020NPL335745  HEMATOLOGY CANCER CONSORTIUM - ASSOCIATION   \n",
       "4  U80900MH2020NPL335760                 VANITA VIDYA E-S FOUNDATION   \n",
       "\n",
       "  DATE OF REGISTRATION MONTH NAME        STATE            ROC COMPANY STATUS  \\\n",
       "0           2020-01-02    January      Gujarat  RoC-Ahmedabad         Active   \n",
       "1           2020-01-03    January  Maharashtra       RoC-Pune         Active   \n",
       "2           2020-01-08    January        Bihar      RoC-Patna         Active   \n",
       "3           2020-01-09    January  Maharashtra     RoC-Mumbai         Active   \n",
       "4           2020-01-09    January  Maharashtra     RoC-Mumbai         Active   \n",
       "\n",
       "                       CATEGORY    CLASS    COMPANY TYPE  \\\n",
       "0  Company Limited by Guarantee  Private  Non-government   \n",
       "1  Company Limited by Guarantee  Private  Non-government   \n",
       "2  Company Limited by Guarantee  Private  Non-government   \n",
       "3  Company Limited by Guarantee  Private  Non-government   \n",
       "4  Company Limited by Guarantee  Private  Non-government   \n",
       "\n",
       "             ...                   x3        x4        x5 COMPANY_AGE  YEAR  \\\n",
       "0            ...             0.339689  0.794017  0.084716          44  2020   \n",
       "1            ...             0.780539  0.462632  0.589200          43  2020   \n",
       "2            ...             0.445404  0.657944  0.500774          38  2020   \n",
       "3            ...             0.608192  0.556470  0.704707          37  2020   \n",
       "4            ...             0.987207  0.886845  0.344866          37  2020   \n",
       "\n",
       "  clusters  clusters_3  clusters_2  LOAN_SCORE  clusters_optimal_cluster  \n",
       "0        0           0           0    2.829542                        14  \n",
       "1        0           0           0    3.440859                        13  \n",
       "2        0           0           0    3.094512                        12  \n",
       "3        0           0           0    3.621075                        26  \n",
       "4        0           0           0    3.836504                        26  \n",
       "\n",
       "[5 rows x 28 columns]"
      ]
     },
     "execution_count": 264,
     "metadata": {},
     "output_type": "execute_result"
    }
   ],
   "source": [
    "df.head()"
   ]
  },
  {
   "cell_type": "code",
   "execution_count": 266,
   "metadata": {},
   "outputs": [
    {
     "data": {
      "text/plain": [
       "2     858\n",
       "5     852\n",
       "1     663\n",
       "14    633\n",
       "4     620\n",
       "0     537\n",
       "18    519\n",
       "3     509\n",
       "13    465\n",
       "20    412\n",
       "8     402\n",
       "17    366\n",
       "12    339\n",
       "15    310\n",
       "10    308\n",
       "11    276\n",
       "19    271\n",
       "21    228\n",
       "23    227\n",
       "28    224\n",
       "24    224\n",
       "6     216\n",
       "7     216\n",
       "26    208\n",
       "39    203\n",
       "38    202\n",
       "16    198\n",
       "45    180\n",
       "32    177\n",
       "36    175\n",
       "25    156\n",
       "22    146\n",
       "30    133\n",
       "34    126\n",
       "27    110\n",
       "42    110\n",
       "35    109\n",
       "44    107\n",
       "29    100\n",
       "46     99\n",
       "37     94\n",
       "33     90\n",
       "40     89\n",
       "43     79\n",
       "9      65\n",
       "41     54\n",
       "31     52\n",
       "Name: clusters_optimal_cluster, dtype: int64"
      ]
     },
     "execution_count": 266,
     "metadata": {},
     "output_type": "execute_result"
    }
   ],
   "source": [
    "df['clusters_optimal_cluster'].value_counts()"
   ]
  },
  {
   "cell_type": "code",
   "execution_count": 267,
   "metadata": {},
   "outputs": [],
   "source": [
    "from sklearn.manifold import TSNE"
   ]
  },
  {
   "cell_type": "code",
   "execution_count": 268,
   "metadata": {},
   "outputs": [],
   "source": [
    "X_embedded = TSNE(n_components=2).fit_transform(X_transformed)"
   ]
  },
  {
   "cell_type": "code",
   "execution_count": 269,
   "metadata": {},
   "outputs": [],
   "source": [
    "X_embedded_df = pd.DataFrame(X_embedded, columns=['dim1','dim2'])\n",
    "X_embedded_df['clusters'] = df.clusters_optimal_cluster"
   ]
  },
  {
   "cell_type": "code",
   "execution_count": 270,
   "metadata": {},
   "outputs": [
    {
     "name": "stderr",
     "output_type": "stream",
     "text": [
      "/home/shobhit/anaconda3/lib/python3.5/site-packages/seaborn/regression.py:546: UserWarning: The `size` paramter has been renamed to `height`; please update your code.\n",
      "  warnings.warn(msg, UserWarning)\n"
     ]
    },
    {
     "data": {
      "text/plain": [
       "<seaborn.axisgrid.FacetGrid at 0x7f944e39d828>"
      ]
     },
     "execution_count": 270,
     "metadata": {},
     "output_type": "execute_result"
    },
    {
     "data": {
      "image/png": "[encoded data removed]",
      "text/plain": [
       "<matplotlib.figure.Figure at 0x7f944e39d908>"
      ]
     },
     "metadata": {},
     "output_type": "display_data"
    }
   ],
   "source": [
    "sns.lmplot(x='dim1',y='dim2',data=X_embedded_df, hue='clusters', legend='full', fit_reg=False, size=10)"
   ]
  },
  {
   "cell_type": "code",
   "execution_count": 271,
   "metadata": {},
   "outputs": [],
   "source": [
    "def loan_score(private_info):\n",
    "    coffecients = [0.717, 0.847 , 0.42 , 3.107 , 0.998]    \n",
    "    score = np.dot(coffecients, private_info)\n",
    "    return score \n",
    "\n",
    "def fetch_private_information(input_cin):\n",
    "    try:\n",
    "        row = df[df.CIN==input_cin]\n",
    "        private_features = ['x1','x2','x3','x4','x5']\n",
    "        private_info = list(map(lambda x: float(x), row[private_features].values[0]))\n",
    "        return private_info\n",
    "    except:\n",
    "        print(row[private_features].values[0])\n",
    "        return [0,0,0,0,0]\n",
    "    \n",
    "def find_score(cin):\n",
    "    try:\n",
    "        pinfo = fetch_private_information(cin)\n",
    "        score = loan_score(pinfo)\n",
    "        return score\n",
    "    except Exception as eobj:\n",
    "        pinfo = fetch_private_information(cin)\n",
    "        print(pinfo)"
   ]
  },
  {
   "cell_type": "code",
   "execution_count": 275,
   "metadata": {},
   "outputs": [],
   "source": [
    "interestRate        = 8.35;\n",
    "numberOfMonths      = 240;\n",
    "principalBorrowed   = 2000000;\n",
    "\n",
    "def monthly_payment(interestRate, numberOfMonths, principalBorrowed):\n",
    "    emi = np.pmt(interestRate * 0.01 /12, numberOfMonths, principalBorrowed)\n",
    "    return abs(emi)\n",
    "\n",
    "def debt_to_income_ratio(all_debts, monthly_income):\n",
    "    ratio = sum(all_debts)/monthly_income\n",
    "    return ratio"
   ]
  },
  {
   "cell_type": "code",
   "execution_count": 274,
   "metadata": {},
   "outputs": [
    {
     "data": {
      "text/plain": [
       "17167.059246223987"
      ]
     },
     "execution_count": 274,
     "metadata": {},
     "output_type": "execute_result"
    }
   ],
   "source": [
    "monthly_payment(interestRate, numberOfMonths, principalBorrowed)"
   ]
  },
  {
   "cell_type": "code",
   "execution_count": 276,
   "metadata": {},
   "outputs": [
    {
     "data": {
      "text/plain": [
       "0.3"
      ]
     },
     "execution_count": 276,
     "metadata": {},
     "output_type": "execute_result"
    }
   ],
   "source": [
    "debt_to_income_ratio([1500,300], 6000)"
   ]
  },
  {
   "cell_type": "code",
   "execution_count": 278,
   "metadata": {},
   "outputs": [],
   "source": [
    "df['LOAN_SCORE'] = df.CIN.apply(find_score)"
   ]
  },
  {
   "cell_type": "code",
   "execution_count": null,
   "metadata": {},
   "outputs": [],
   "source": []
  },
  {
   "cell_type": "code",
   "execution_count": 279,
   "metadata": {},
   "outputs": [],
   "source": [
    "df_test = pd.read_csv('./data1000.csv')"
   ]
  },
  {
   "cell_type": "code",
   "execution_count": 281,
   "metadata": {},
   "outputs": [
    {
     "data": {
      "text/plain": [
       "Enitity Nane    0\n",
       "dtype: int64"
      ]
     },
     "execution_count": 281,
     "metadata": {},
     "output_type": "execute_result"
    }
   ],
   "source": [
    "df_test.isnull().sum()"
   ]
  },
  {
   "cell_type": "code",
   "execution_count": 296,
   "metadata": {},
   "outputs": [
    {
     "data": {
      "text/plain": [
       "(1, 28)"
      ]
     },
     "execution_count": 296,
     "metadata": {},
     "output_type": "execute_result"
    }
   ],
   "source": [
    "X_test = df[df['COMPANY NAME'] == 'A.P.N.P CONSTRUCTION PRIVATE LIMITED']\n",
    "X_test.shape"
   ]
  },
  {
   "cell_type": "code",
   "execution_count": 299,
   "metadata": {},
   "outputs": [
    {
     "data": {
      "text/html": [
       "<div>\n",
       "<style scoped>\n",
       "    .dataframe tbody tr th:only-of-type {\n",
       "        vertical-align: middle;\n",
       "    }\n",
       "\n",
       "    .dataframe tbody tr th {\n",
       "        vertical-align: top;\n",
       "    }\n",
       "\n",
       "    .dataframe thead th {\n",
       "        text-align: right;\n",
       "    }\n",
       "</style>\n",
       "<table border=\"1\" class=\"dataframe\">\n",
       "  <thead>\n",
       "    <tr style=\"text-align: right;\">\n",
       "      <th></th>\n",
       "      <th>CIN</th>\n",
       "      <th>COMPANY NAME</th>\n",
       "      <th>DATE OF REGISTRATION</th>\n",
       "      <th>MONTH NAME</th>\n",
       "      <th>STATE</th>\n",
       "      <th>ROC</th>\n",
       "      <th>COMPANY STATUS</th>\n",
       "      <th>CATEGORY</th>\n",
       "      <th>CLASS</th>\n",
       "      <th>COMPANY TYPE</th>\n",
       "      <th>...</th>\n",
       "      <th>x3</th>\n",
       "      <th>x4</th>\n",
       "      <th>x5</th>\n",
       "      <th>COMPANY_AGE</th>\n",
       "      <th>YEAR</th>\n",
       "      <th>clusters</th>\n",
       "      <th>clusters_3</th>\n",
       "      <th>clusters_2</th>\n",
       "      <th>LOAN_SCORE</th>\n",
       "      <th>clusters_optimal_cluster</th>\n",
       "    </tr>\n",
       "  </thead>\n",
       "  <tbody>\n",
       "    <tr>\n",
       "      <th>6922</th>\n",
       "      <td>U45309JH2020PTC013951</td>\n",
       "      <td>A.P.N.P CONSTRUCTION PRIVATE LIMITED</td>\n",
       "      <td>2020-01-20</td>\n",
       "      <td>January</td>\n",
       "      <td>Jharkhand</td>\n",
       "      <td>RoC-Jharkhand</td>\n",
       "      <td>Active</td>\n",
       "      <td>Company limited by Shares</td>\n",
       "      <td>Private</td>\n",
       "      <td>Non-government</td>\n",
       "      <td>...</td>\n",
       "      <td>0.03128</td>\n",
       "      <td>0.240978</td>\n",
       "      <td>0.777584</td>\n",
       "      <td>26</td>\n",
       "      <td>2020</td>\n",
       "      <td>0</td>\n",
       "      <td>0</td>\n",
       "      <td>0</td>\n",
       "      <td>2.353048</td>\n",
       "      <td>22</td>\n",
       "    </tr>\n",
       "  </tbody>\n",
       "</table>\n",
       "<p>1 rows × 28 columns</p>\n",
       "</div>"
      ],
      "text/plain": [
       "                        CIN                          COMPANY NAME  \\\n",
       "6922  U45309JH2020PTC013951  A.P.N.P CONSTRUCTION PRIVATE LIMITED   \n",
       "\n",
       "     DATE OF REGISTRATION MONTH NAME      STATE            ROC COMPANY STATUS  \\\n",
       "6922           2020-01-20    January  Jharkhand  RoC-Jharkhand         Active   \n",
       "\n",
       "                       CATEGORY    CLASS    COMPANY TYPE  \\\n",
       "6922  Company limited by Shares  Private  Non-government   \n",
       "\n",
       "                ...                  x3        x4        x5 COMPANY_AGE  YEAR  \\\n",
       "6922            ...             0.03128  0.240978  0.777584          26  2020   \n",
       "\n",
       "     clusters  clusters_3  clusters_2  LOAN_SCORE  clusters_optimal_cluster  \n",
       "6922        0           0           0    2.353048                        22  \n",
       "\n",
       "[1 rows x 28 columns]"
      ]
     },
     "execution_count": 299,
     "metadata": {},
     "output_type": "execute_result"
    }
   ],
   "source": [
    "X_test.head()"
   ]
  },
  {
   "cell_type": "code",
   "execution_count": null,
   "metadata": {},
   "outputs": [],
   "source": []
  },
  {
   "cell_type": "code",
   "execution_count": null,
   "metadata": {},
   "outputs": [],
   "source": []
  },
  {
   "cell_type": "code",
   "execution_count": null,
   "metadata": {},
   "outputs": [],
   "source": []
  },
  {
   "cell_type": "code",
   "execution_count": null,
   "metadata": {},
   "outputs": [],
   "source": []
  },
  {
   "cell_type": "code",
   "execution_count": null,
   "metadata": {},
   "outputs": [],
   "source": []
  },
  {
   "cell_type": "code",
   "execution_count": 194,
   "metadata": {},
   "outputs": [],
   "source": [
    "import scipy"
   ]
  },
  {
   "cell_type": "code",
   "execution_count": 199,
   "metadata": {},
   "outputs": [
    {
     "name": "stderr",
     "output_type": "stream",
     "text": [
      "/home/shobhit/anaconda3/lib/python3.5/site-packages/scipy/stats/stats.py:1706: FutureWarning: Using a non-tuple sequence for multidimensional indexing is deprecated; use `arr[tuple(seq)]` instead of `arr[seq]`. In the future this will be interpreted as an array index, `arr[np.array(seq)]`, which will result either in an error or a different result.\n",
      "  return np.add.reduce(sorted[indexer] * weights, axis=axis) / sumval\n"
     ]
    },
    {
     "data": {
      "text/plain": [
       "<matplotlib.axes._subplots.AxesSubplot at 0x7f944edd9390>"
      ]
     },
     "execution_count": 199,
     "metadata": {},
     "output_type": "execute_result"
    },
    {
     "data": {
      "image/png": "[encoded data removed]",
      "text/plain": [
       "<matplotlib.figure.Figure at 0x7f944ee61c88>"
      ]
     },
     "metadata": {},
     "output_type": "display_data"
    }
   ],
   "source": [
    "sns.distplot(scipy.stats.zscore(df[df.clusters==1]['LOAN_SCORE']))"
   ]
  },
  {
   "cell_type": "code",
   "execution_count": 204,
   "metadata": {},
   "outputs": [
    {
     "name": "stderr",
     "output_type": "stream",
     "text": [
      "/home/shobhit/anaconda3/lib/python3.5/site-packages/scipy/stats/stats.py:1706: FutureWarning: Using a non-tuple sequence for multidimensional indexing is deprecated; use `arr[tuple(seq)]` instead of `arr[seq]`. In the future this will be interpreted as an array index, `arr[np.array(seq)]`, which will result either in an error or a different result.\n",
      "  return np.add.reduce(sorted[indexer] * weights, axis=axis) / sumval\n",
      "/home/shobhit/anaconda3/lib/python3.5/site-packages/numpy/core/_methods.py:217: RuntimeWarning: Degrees of freedom <= 0 for slice\n",
      "  keepdims=keepdims)\n",
      "/home/shobhit/anaconda3/lib/python3.5/site-packages/numpy/core/_methods.py:209: RuntimeWarning: invalid value encountered in double_scalars\n",
      "  ret = ret.dtype.type(ret / rcount)\n"
     ]
    },
    {
     "data": {
      "text/plain": [
       "<matplotlib.axes._subplots.AxesSubplot at 0x7f944f9e0550>"
      ]
     },
     "execution_count": 204,
     "metadata": {},
     "output_type": "execute_result"
    },
    {
     "data": {
      "image/png": "[encoded data removed]",
      "text/plain": [
       "<matplotlib.figure.Figure at 0x7f944f9edef0>"
      ]
     },
     "metadata": {},
     "output_type": "display_data"
    }
   ],
   "source": [
    "sns.distplot(df[df.clusters==0]['LOAN_SCORE'])\n",
    "sns.distplot(df[df.clusters==1]['LOAN_SCORE'])\n",
    "sns.distplot(df[df.clusters==2]['LOAN_SCORE'])\n"
   ]
  },
  {
   "cell_type": "code",
   "execution_count": 205,
   "metadata": {},
   "outputs": [],
   "source": [
    "mean_score = np.mean(df['LOAN_SCORE'])\n",
    "std = np.std(df['LOAN_SCORE'])"
   ]
  },
  {
   "cell_type": "code",
   "execution_count": 206,
   "metadata": {},
   "outputs": [
    {
     "data": {
      "text/plain": [
       "(3.0591139191493775, 1.0016899880616428)"
      ]
     },
     "execution_count": 206,
     "metadata": {},
     "output_type": "execute_result"
    }
   ],
   "source": [
    "mean_score, std"
   ]
  },
  {
   "cell_type": "code",
   "execution_count": 207,
   "metadata": {},
   "outputs": [
    {
     "data": {
      "text/plain": [
       "array([-0.22918464,  0.38110056,  0.03533814, ...,  0.50909426,\n",
       "       -0.33518123,  1.22945206])"
      ]
     },
     "execution_count": 207,
     "metadata": {},
     "output_type": "execute_result"
    }
   ],
   "source": [
    "scipy.stats.zscore(df['LOAN_SCORE'])"
   ]
  },
  {
   "cell_type": "code",
   "execution_count": 210,
   "metadata": {},
   "outputs": [],
   "source": [
    "#(df.loc[0,'LOAN_SCORE'] - mean_score )/ std"
   ]
  },
  {
   "cell_type": "code",
   "execution_count": null,
   "metadata": {},
   "outputs": [],
   "source": []
  },
  {
   "cell_type": "code",
   "execution_count": null,
   "metadata": {},
   "outputs": [],
   "source": []
  },
  {
   "cell_type": "code",
   "execution_count": null,
   "metadata": {},
   "outputs": [],
   "source": []
  },
  {
   "cell_type": "code",
   "execution_count": null,
   "metadata": {},
   "outputs": [],
   "source": []
  },
  {
   "cell_type": "code",
   "execution_count": null,
   "metadata": {},
   "outputs": [],
   "source": []
  },
  {
   "cell_type": "code",
   "execution_count": null,
   "metadata": {},
   "outputs": [],
   "source": []
  },
  {
   "cell_type": "code",
   "execution_count": null,
   "metadata": {},
   "outputs": [],
   "source": []
  },
  {
   "cell_type": "code",
   "execution_count": null,
   "metadata": {},
   "outputs": [],
   "source": []
  },
  {
   "cell_type": "code",
   "execution_count": null,
   "metadata": {},
   "outputs": [],
   "source": []
  },
  {
   "cell_type": "code",
   "execution_count": 363,
   "metadata": {},
   "outputs": [
    {
     "data": {
      "text/plain": [
       "['U93000GJ2020NPL111833',\n",
       " 'U80902PN2020NPL188861',\n",
       " 'U85300BR2020NPL044916',\n",
       " 'U85100MH2020NPL335745',\n",
       " 'U80900MH2020NPL335760',\n",
       " 'U85300PN2020NPL189119',\n",
       " 'U80904GJ2020NPL112176',\n",
       " 'U85300GJ2020NPL112188',\n",
       " 'U85100GJ2020NPL112195',\n",
       " 'U80904WB2020NPL236066',\n",
       " 'U80302TG2020NPL138635',\n",
       " 'U41000RJ2020NPL067989',\n",
       " 'U72900GJ2020PTC111807',\n",
       " 'U72900MH2020PTC335311',\n",
       " 'U85100WB2020PTC235623',\n",
       " 'U01400JH2020PTC013874',\n",
       " 'U74999PN2020PTC188807',\n",
       " 'U01100DL2020PTC359635',\n",
       " 'U72900TG2020PTC138114',\n",
       " 'U72200TG2020PTC138115',\n",
       " 'U15400UP2020PTC125191',\n",
       " 'U72900DL2020PTC359631',\n",
       " 'U72900AP2020PTC113788',\n",
       " 'U45500UP2020PTC125193',\n",
       " 'U74999TG2020PTC138112',\n",
       " 'U72900TG2020OPC138110',\n",
       " 'U74110DL2020PTC359630',\n",
       " 'U80903JH2020PTC013873',\n",
       " 'U45400UP2020PTC125192',\n",
       " 'U63030DL2020PTC359632',\n",
       " 'U45201MH2020PTC335312',\n",
       " 'U15549TG2020PTC138111',\n",
       " 'U85100JK2020PTC011290',\n",
       " 'U40100DL2020PTC359633',\n",
       " 'U74999BR2020PTC044835',\n",
       " 'U74999DL2020PTC359634',\n",
       " 'U52590TN2020PTC133562',\n",
       " 'U15549MP2020PTC050526',\n",
       " 'U01100WB2020PTC235624',\n",
       " 'U72900TZ2020PTC033256',\n",
       " 'U80902RJ2020PTC067618',\n",
       " 'U36999KA2020PTC131204',\n",
       " 'U85190TG2020PTC138113',\n",
       " 'U65999KA2020PTC131206',\n",
       " 'U51909AP2020PTC113789',\n",
       " 'U85300MP2020NPL050527',\n",
       " 'U72900TN2020PTC133563',\n",
       " 'U72900TG2020PTC138116',\n",
       " 'U72900UP2020PTC125195',\n",
       " 'U85190TZ2020PTC033257',\n",
       " 'U72900GA2020PTC014222',\n",
       " 'U74999HR2020PTC084498',\n",
       " 'U51397UP2020PTC125197',\n",
       " 'U93090PB2020PTC050520',\n",
       " 'U74999MH2020PTC335313',\n",
       " 'U45309PB2020PTC050521',\n",
       " 'U51909MH2020PTC335314',\n",
       " 'U02005JH2020PTC013875',\n",
       " 'U72900BR2020OPC044836',\n",
       " 'U31904WB2020PTC235625',\n",
       " 'U01100AS2020PTC019800',\n",
       " 'U72900PN2020PTC188808',\n",
       " 'U29190KA2020PTC131208',\n",
       " 'U01114TN2020PTC133564',\n",
       " 'U72900KA2020PTC131207',\n",
       " 'U24299MP2020PTC050528',\n",
       " 'U74920HR2020PTC084497',\n",
       " 'U25209KA2020PTC131209',\n",
       " 'U55101WB2020PTC235626',\n",
       " 'U51909UP2020PTC125196',\n",
       " 'U01100KA2020PTC131210',\n",
       " 'U25209MP2020PTC050530',\n",
       " 'U15400UP2020PTC125202',\n",
       " 'U01110BR2020PTC044837',\n",
       " 'U65990PB2020PTC050522',\n",
       " 'U40106KA2020PTC131211',\n",
       " 'U01409MH2020PTC335315',\n",
       " 'U93090DL2020PTC359636',\n",
       " 'U92490PN2020PTC188810',\n",
       " 'U29193MP2020PTC050529',\n",
       " 'U74999TN2020PTC133565',\n",
       " 'U74999UP2020PTC125200',\n",
       " 'U74140MH2020PTC335316',\n",
       " 'U72900AP2020PTC113790',\n",
       " 'U72900JH2020PTC013876',\n",
       " 'U52200UP2020PTC125199',\n",
       " 'U24297TG2020PTC138117',\n",
       " 'U85300DL2020NPL359639',\n",
       " 'U74993MH2020PTC335317',\n",
       " 'U74999OR2020PTC032405',\n",
       " 'U74999OR2020PTC032406',\n",
       " 'U52100GJ2020PTC111810',\n",
       " 'U29309GJ2020PTC111811',\n",
       " 'U29100PN2020PTC188809',\n",
       " 'U51505KA2020PTC131212',\n",
       " 'U15400DL2020PTC359638',\n",
       " 'U55209HR2020PTC084499',\n",
       " 'U45309JH2020PTC013877',\n",
       " 'U25209MP2020PTC050534',\n",
       " 'U25209MH2020PTC335322']"
      ]
     },
     "execution_count": 363,
     "metadata": {},
     "output_type": "execute_result"
    }
   ],
   "source": [
    "all_cin"
   ]
  },
  {
   "cell_type": "code",
   "execution_count": 332,
   "metadata": {},
   "outputs": [],
   "source": [
    "import scipy.stats as st\n",
    "import random"
   ]
  },
  {
   "cell_type": "code",
   "execution_count": 362,
   "metadata": {},
   "outputs": [],
   "source": [
    "all_cin =list(df['CIN'].values)[:100]\n",
    "# all_cin"
   ]
  },
  {
   "cell_type": "code",
   "execution_count": 350,
   "metadata": {},
   "outputs": [],
   "source": [
    "def feature_mean_std(data,hidden_score, feature_name):\n",
    "    curr_mean = np.mean(data[feature_name])\n",
    "    curr_std = np.std(data[feature_name])\n",
    "    z_score = (hidden_score - curr_mean)/curr_std\n",
    "    return z_score"
   ]
  },
  {
   "cell_type": "code",
   "execution_count": 359,
   "metadata": {},
   "outputs": [],
   "source": [
    "import warnings\n",
    "warnings.filterwarnings('ignore')"
   ]
  },
  {
   "cell_type": "markdown",
   "metadata": {},
   "source": [
    "![title](./design_diagram.png)"
   ]
  },
  {
   "cell_type": "code",
   "execution_count": 361,
   "metadata": {},
   "outputs": [
    {
     "data": {
      "application/vnd.jupyter.widget-view+json": {
       "model_id": "4e70127d26eb40848d1730cf1f8f5300",
       "version_major": 2,
       "version_minor": 0
      },
      "text/html": [
       "<p>Failed to display Jupyter Widget of type <code>interactive</code>.</p>\n",
       "<p>\n",
       "  If you're reading this message in the Jupyter Notebook or JupyterLab Notebook, it may mean\n",
       "  that the widgets JavaScript is still loading. If this message persists, it\n",
       "  likely means that the widgets JavaScript library is either not installed or\n",
       "  not enabled. See the <a href=\"https://ipywidgets.readthedocs.io/en/stable/user_install.html\">Jupyter\n",
       "  Widgets Documentation</a> for setup instructions.\n",
       "</p>\n",
       "<p>\n",
       "  If you're reading this message in another frontend (for example, a static\n",
       "  rendering on GitHub or <a href=\"https://nbviewer.jupyter.org/\">NBViewer</a>),\n",
       "  it may mean that your frontend doesn't currently support widgets.\n",
       "</p>\n"
      ],
      "text/plain": [
       "interactive(children=(Dropdown(description='cin', options=('U93000GJ2020NPL111833', 'U80902PN2020NPL188861', 'U85300BR2020NPL044916', 'U85100MH2020NPL335745', 'U80900MH2020NPL335760', 'U85300PN2020NPL189119', 'U80904GJ2020NPL112176', 'U85300GJ2020NPL112188', 'U85100GJ2020NPL112195', 'U80904WB2020NPL236066', 'U80302TG2020NPL138635', 'U41000RJ2020NPL067989', 'U72900GJ2020PTC111807', 'U72900MH2020PTC335311', 'U85100WB2020PTC235623', 'U01400JH2020PTC013874', 'U74999PN2020PTC188807', 'U01100DL2020PTC359635', 'U72900TG2020PTC138114', 'U72200TG2020PTC138115', 'U15400UP2020PTC125191', 'U72900DL2020PTC359631', 'U72900AP2020PTC113788', 'U45500UP2020PTC125193', 'U74999TG2020PTC138112', 'U72900TG2020OPC138110', 'U74110DL2020PTC359630', 'U80903JH2020PTC013873', 'U45400UP2020PTC125192', 'U63030DL2020PTC359632', 'U45201MH2020PTC335312', 'U15549TG2020PTC138111', 'U85100JK2020PTC011290', 'U40100DL2020PTC359633', 'U74999BR2020PTC044835', 'U74999DL2020PTC359634', 'U52590TN2020PTC133562', 'U15549MP2020PTC050526', 'U01100WB2020PTC235624', 'U72900TZ2020PTC033256', 'U80902RJ2020PTC067618', 'U36999KA2020PTC131204', 'U85190TG2020PTC138113', 'U65999KA2020PTC131206', 'U51909AP2020PTC113789', 'U85300MP2020NPL050527', 'U72900TN2020PTC133563', 'U72900TG2020PTC138116', 'U72900UP2020PTC125195', 'U85190TZ2020PTC033257', 'U72900GA2020PTC014222', 'U74999HR2020PTC084498', 'U51397UP2020PTC125197', 'U93090PB2020PTC050520', 'U74999MH2020PTC335313', 'U45309PB2020PTC050521', 'U51909MH2020PTC335314', 'U02005JH2020PTC013875', 'U72900BR2020OPC044836', 'U31904WB2020PTC235625', 'U01100AS2020PTC019800', 'U72900PN2020PTC188808', 'U29190KA2020PTC131208', 'U01114TN2020PTC133564', 'U72900KA2020PTC131207', 'U24299MP2020PTC050528', 'U74920HR2020PTC084497', 'U25209KA2020PTC131209', 'U55101WB2020PTC235626', 'U51909UP2020PTC125196', 'U01100KA2020PTC131210', 'U25209MP2020PTC050530', 'U15400UP2020PTC125202', 'U01110BR2020PTC044837', 'U65990PB2020PTC050522', 'U40106KA2020PTC131211', 'U01409MH2020PTC335315', 'U93090DL2020PTC359636', 'U92490PN2020PTC188810', 'U29193MP2020PTC050529', 'U74999TN2020PTC133565', 'U74999UP2020PTC125200', 'U74140MH2020PTC335316', 'U72900AP2020PTC113790', 'U72900JH2020PTC013876', 'U52200UP2020PTC125199', 'U24297TG2020PTC138117', 'U85300DL2020NPL359639', 'U74993MH2020PTC335317', 'U74999OR2020PTC032405', 'U74999OR2020PTC032406', 'U52100GJ2020PTC111810', 'U29309GJ2020PTC111811', 'U29100PN2020PTC188809', 'U51505KA2020PTC131212', 'U15400DL2020PTC359638', 'U55209HR2020PTC084499', 'U45309JH2020PTC013877', 'U25209MP2020PTC050534', 'U25209MH2020PTC335322'), value='U93000GJ2020NPL111833'), IntSlider(value=500000, description='c_debts', max=1000000), IntSlider(value=500000, description='income', max=1000000), FloatSlider(value=10.0, description='loan_interest', max=20.0), IntSlider(value=50000000, description='loan_amount', max=100000000), IntSlider(value=5000, description='loan_age', max=10000), Output()), _dom_classes=('widget-interact',))"
      ]
     },
     "metadata": {},
     "output_type": "display_data"
    }
   ],
   "source": [
    "@interact\n",
    "def user_info(cin=all_cin,\n",
    "              c_debts = (0,1000000),\n",
    "              income = (0,1000000),\n",
    "              loan_interest = (0.0 ,20.0),\n",
    "              loan_amount = (0,100000000),\n",
    "              loan_age = (0,10000)):\n",
    "    data_point = df[df.CIN==cin]\n",
    "              \n",
    "    loan_decision = 'Not approved'        \n",
    "    loan_emi = monthly_payment(loan_interest, loan_age, loan_amount)\n",
    "    \n",
    "    curr_company_d_to_i_ratio = debt_to_income_ratio([c_debts, loan_emi], income)\n",
    "    hidden_score = loan_score(fetch_private_information(cin))\n",
    "        \n",
    "    current_clusters_data_points = df[df.clusters_optimal_cluster == data_point.clusters_optimal_cluster.values[0]]\n",
    "    current_clusters_data_points['authorized_paidup_amount_diff'] = current_clusters_data_points['AUTHORIZED CAPITAL'] - current_clusters_data_points['PAIDUP CAPITAL']\n",
    "    paidup_amount = current_clusters_data_points[df.CIN == cin]['PAIDUP CAPITAL'].values[0]\n",
    "    authorized_amount = current_clusters_data_points[df.CIN == cin]['AUTHORIZED CAPITAL'].values[0]\n",
    "    diff_amount = current_clusters_data_points[df.CIN == cin]['authorized_paidup_amount_diff'].values[0]\n",
    "\n",
    "    threshold_d_i_ratio = 0.43\n",
    "    if curr_company_d_to_i_ratio <= threshold_d_i_ratio:\n",
    "        \n",
    "        z_score = feature_mean_std(current_clusters_data_points, hidden_score, 'LOAN_SCORE')\n",
    "        z_paidup = feature_mean_std(current_clusters_data_points, paidup_amount, 'PAIDUP CAPITAL')\n",
    "        z_authorized = feature_mean_std(current_clusters_data_points, authorized_amount, 'AUTHORIZED CAPITAL')\n",
    "        z_diff = feature_mean_std(current_clusters_data_points, diff_amount, 'authorized_paidup_amount_diff')\n",
    "                \n",
    "        final_z_score = np.mean([z_score, z_paidup, z_authorized ,z_diff])\n",
    "        print(final_z_score)\n",
    "        \n",
    "        p_value = st.norm.cdf(final_z_score)\n",
    "        critical_region = 0.95\n",
    "        \n",
    "        if p_value >= critical_region:\n",
    "            print(\"Loan approved...\")\n",
    "        else:\n",
    "            print(\"Loan rejected...p_value: {}, alpha_level:{}\".format(p_value,critical_region))\n",
    "        \n",
    "    else:\n",
    "        print(\"Loan Rejected bcz of high debit_to_income ratio: ratio: {}, threshold: {}\"\n",
    "              .format(round(curr_company_d_to_i_ratio,2),threshold_d_i_ratio))\n",
    "    \n",
    "    \n",
    "        \n"
   ]
  },
  {
   "cell_type": "code",
   "execution_count": null,
   "metadata": {},
   "outputs": [],
   "source": []
  },
  {
   "cell_type": "code",
   "execution_count": 366,
   "metadata": {},
   "outputs": [
    {
     "ename": "ConnectionError",
     "evalue": "ConnectionError(<urllib3.connection.HTTPConnection object at 0x7f943927df98>: Failed to establish a new connection: [Errno 111] Connection refused) caused by: NewConnectionError(<urllib3.connection.HTTPConnection object at 0x7f943927df98>: Failed to establish a new connection: [Errno 111] Connection refused)",
     "output_type": "error",
     "traceback": [
      "\u001b[0;31m---------------------------------------------------------------------------\u001b[0m",
      "\u001b[0;31mConnectionRefusedError\u001b[0m                    Traceback (most recent call last)",
      "\u001b[0;32m~/anaconda3/lib/python3.5/site-packages/urllib3/connection.py\u001b[0m in \u001b[0;36m_new_conn\u001b[0;34m(self)\u001b[0m\n\u001b[1;32m    140\u001b[0m             conn = connection.create_connection(\n\u001b[0;32m--> 141\u001b[0;31m                 (self.host, self.port), self.timeout, **extra_kw)\n\u001b[0m\u001b[1;32m    142\u001b[0m \u001b[0;34m\u001b[0m\u001b[0m\n",
      "\u001b[0;32m~/anaconda3/lib/python3.5/site-packages/urllib3/util/connection.py\u001b[0m in \u001b[0;36mcreate_connection\u001b[0;34m(address, timeout, source_address, socket_options)\u001b[0m\n\u001b[1;32m     82\u001b[0m     \u001b[0;32mif\u001b[0m \u001b[0merr\u001b[0m \u001b[0;32mis\u001b[0m \u001b[0;32mnot\u001b[0m \u001b[0;32mNone\u001b[0m\u001b[0;34m:\u001b[0m\u001b[0;34m\u001b[0m\u001b[0m\n\u001b[0;32m---> 83\u001b[0;31m         \u001b[0;32mraise\u001b[0m \u001b[0merr\u001b[0m\u001b[0;34m\u001b[0m\u001b[0m\n\u001b[0m\u001b[1;32m     84\u001b[0m \u001b[0;34m\u001b[0m\u001b[0m\n",
      "\u001b[0;32m~/anaconda3/lib/python3.5/site-packages/urllib3/util/connection.py\u001b[0m in \u001b[0;36mcreate_connection\u001b[0;34m(address, timeout, source_address, socket_options)\u001b[0m\n\u001b[1;32m     72\u001b[0m                 \u001b[0msock\u001b[0m\u001b[0;34m.\u001b[0m\u001b[0mbind\u001b[0m\u001b[0;34m(\u001b[0m\u001b[0msource_address\u001b[0m\u001b[0;34m)\u001b[0m\u001b[0;34m\u001b[0m\u001b[0m\n\u001b[0;32m---> 73\u001b[0;31m             \u001b[0msock\u001b[0m\u001b[0;34m.\u001b[0m\u001b[0mconnect\u001b[0m\u001b[0;34m(\u001b[0m\u001b[0msa\u001b[0m\u001b[0;34m)\u001b[0m\u001b[0;34m\u001b[0m\u001b[0m\n\u001b[0m\u001b[1;32m     74\u001b[0m             \u001b[0;32mreturn\u001b[0m \u001b[0msock\u001b[0m\u001b[0;34m\u001b[0m\u001b[0m\n",
      "\u001b[0;31mConnectionRefusedError\u001b[0m: [Errno 111] Connection refused",
      "\nDuring handling of the above exception, another exception occurred:\n",
      "\u001b[0;31mNewConnectionError\u001b[0m                        Traceback (most recent call last)",
      "\u001b[0;32m~/anaconda3/lib/python3.5/site-packages/elasticsearch/connection/http_urllib3.py\u001b[0m in \u001b[0;36mperform_request\u001b[0;34m(self, method, url, params, body, timeout, ignore, headers)\u001b[0m\n\u001b[1;32m    241\u001b[0m             response = self.pool.urlopen(\n\u001b[0;32m--> 242\u001b[0;31m                 \u001b[0mmethod\u001b[0m\u001b[0;34m,\u001b[0m \u001b[0murl\u001b[0m\u001b[0;34m,\u001b[0m \u001b[0mbody\u001b[0m\u001b[0;34m,\u001b[0m \u001b[0mretries\u001b[0m\u001b[0;34m=\u001b[0m\u001b[0mRetry\u001b[0m\u001b[0;34m(\u001b[0m\u001b[0;32mFalse\u001b[0m\u001b[0;34m)\u001b[0m\u001b[0;34m,\u001b[0m \u001b[0mheaders\u001b[0m\u001b[0;34m=\u001b[0m\u001b[0mrequest_headers\u001b[0m\u001b[0;34m,\u001b[0m \u001b[0;34m**\u001b[0m\u001b[0mkw\u001b[0m\u001b[0;34m\u001b[0m\u001b[0m\n\u001b[0m\u001b[1;32m    243\u001b[0m             )\n",
      "\u001b[0;32m~/anaconda3/lib/python3.5/site-packages/urllib3/connectionpool.py\u001b[0m in \u001b[0;36murlopen\u001b[0;34m(self, method, url, body, headers, retries, redirect, assert_same_host, timeout, pool_timeout, release_conn, chunked, body_pos, **response_kw)\u001b[0m\n\u001b[1;32m    638\u001b[0m             retries = retries.increment(method, url, error=e, _pool=self,\n\u001b[0;32m--> 639\u001b[0;31m                                         _stacktrace=sys.exc_info()[2])\n\u001b[0m\u001b[1;32m    640\u001b[0m             \u001b[0mretries\u001b[0m\u001b[0;34m.\u001b[0m\u001b[0msleep\u001b[0m\u001b[0;34m(\u001b[0m\u001b[0;34m)\u001b[0m\u001b[0;34m\u001b[0m\u001b[0m\n",
      "\u001b[0;32m~/anaconda3/lib/python3.5/site-packages/urllib3/util/retry.py\u001b[0m in \u001b[0;36mincrement\u001b[0;34m(self, method, url, response, error, _pool, _stacktrace)\u001b[0m\n\u001b[1;32m    332\u001b[0m             \u001b[0;31m# Disabled, indicate to re-raise the error.\u001b[0m\u001b[0;34m\u001b[0m\u001b[0;34m\u001b[0m\u001b[0m\n\u001b[0;32m--> 333\u001b[0;31m             \u001b[0;32mraise\u001b[0m \u001b[0msix\u001b[0m\u001b[0;34m.\u001b[0m\u001b[0mreraise\u001b[0m\u001b[0;34m(\u001b[0m\u001b[0mtype\u001b[0m\u001b[0;34m(\u001b[0m\u001b[0merror\u001b[0m\u001b[0;34m)\u001b[0m\u001b[0;34m,\u001b[0m \u001b[0merror\u001b[0m\u001b[0;34m,\u001b[0m \u001b[0m_stacktrace\u001b[0m\u001b[0;34m)\u001b[0m\u001b[0;34m\u001b[0m\u001b[0m\n\u001b[0m\u001b[1;32m    334\u001b[0m \u001b[0;34m\u001b[0m\u001b[0m\n",
      "\u001b[0;32m~/anaconda3/lib/python3.5/site-packages/urllib3/packages/six.py\u001b[0m in \u001b[0;36mreraise\u001b[0;34m(tp, value, tb)\u001b[0m\n\u001b[1;32m    685\u001b[0m             \u001b[0;32mraise\u001b[0m \u001b[0mvalue\u001b[0m\u001b[0;34m.\u001b[0m\u001b[0mwith_traceback\u001b[0m\u001b[0;34m(\u001b[0m\u001b[0mtb\u001b[0m\u001b[0;34m)\u001b[0m\u001b[0;34m\u001b[0m\u001b[0m\n\u001b[0;32m--> 686\u001b[0;31m         \u001b[0;32mraise\u001b[0m \u001b[0mvalue\u001b[0m\u001b[0;34m\u001b[0m\u001b[0m\n\u001b[0m\u001b[1;32m    687\u001b[0m \u001b[0;34m\u001b[0m\u001b[0m\n",
      "\u001b[0;32m~/anaconda3/lib/python3.5/site-packages/urllib3/connectionpool.py\u001b[0m in \u001b[0;36murlopen\u001b[0;34m(self, method, url, body, headers, retries, redirect, assert_same_host, timeout, pool_timeout, release_conn, chunked, body_pos, **response_kw)\u001b[0m\n\u001b[1;32m    600\u001b[0m                                                   \u001b[0mbody\u001b[0m\u001b[0;34m=\u001b[0m\u001b[0mbody\u001b[0m\u001b[0;34m,\u001b[0m \u001b[0mheaders\u001b[0m\u001b[0;34m=\u001b[0m\u001b[0mheaders\u001b[0m\u001b[0;34m,\u001b[0m\u001b[0;34m\u001b[0m\u001b[0m\n\u001b[0;32m--> 601\u001b[0;31m                                                   chunked=chunked)\n\u001b[0m\u001b[1;32m    602\u001b[0m \u001b[0;34m\u001b[0m\u001b[0m\n",
      "\u001b[0;32m~/anaconda3/lib/python3.5/site-packages/urllib3/connectionpool.py\u001b[0m in \u001b[0;36m_make_request\u001b[0;34m(self, conn, method, url, timeout, chunked, **httplib_request_kw)\u001b[0m\n\u001b[1;32m    356\u001b[0m         \u001b[0;32melse\u001b[0m\u001b[0;34m:\u001b[0m\u001b[0;34m\u001b[0m\u001b[0m\n\u001b[0;32m--> 357\u001b[0;31m             \u001b[0mconn\u001b[0m\u001b[0;34m.\u001b[0m\u001b[0mrequest\u001b[0m\u001b[0;34m(\u001b[0m\u001b[0mmethod\u001b[0m\u001b[0;34m,\u001b[0m \u001b[0murl\u001b[0m\u001b[0;34m,\u001b[0m \u001b[0;34m**\u001b[0m\u001b[0mhttplib_request_kw\u001b[0m\u001b[0;34m)\u001b[0m\u001b[0;34m\u001b[0m\u001b[0m\n\u001b[0m\u001b[1;32m    358\u001b[0m \u001b[0;34m\u001b[0m\u001b[0m\n",
      "\u001b[0;32m~/anaconda3/lib/python3.5/http/client.py\u001b[0m in \u001b[0;36mrequest\u001b[0;34m(self, method, url, body, headers)\u001b[0m\n\u001b[1;32m   1106\u001b[0m         \u001b[0;34m\"\"\"Send a complete request to the server.\"\"\"\u001b[0m\u001b[0;34m\u001b[0m\u001b[0m\n\u001b[0;32m-> 1107\u001b[0;31m         \u001b[0mself\u001b[0m\u001b[0;34m.\u001b[0m\u001b[0m_send_request\u001b[0m\u001b[0;34m(\u001b[0m\u001b[0mmethod\u001b[0m\u001b[0;34m,\u001b[0m \u001b[0murl\u001b[0m\u001b[0;34m,\u001b[0m \u001b[0mbody\u001b[0m\u001b[0;34m,\u001b[0m \u001b[0mheaders\u001b[0m\u001b[0;34m)\u001b[0m\u001b[0;34m\u001b[0m\u001b[0m\n\u001b[0m\u001b[1;32m   1108\u001b[0m \u001b[0;34m\u001b[0m\u001b[0m\n",
      "\u001b[0;32m~/anaconda3/lib/python3.5/http/client.py\u001b[0m in \u001b[0;36m_send_request\u001b[0;34m(self, method, url, body, headers)\u001b[0m\n\u001b[1;32m   1151\u001b[0m             \u001b[0mbody\u001b[0m \u001b[0;34m=\u001b[0m \u001b[0m_encode\u001b[0m\u001b[0;34m(\u001b[0m\u001b[0mbody\u001b[0m\u001b[0;34m,\u001b[0m \u001b[0;34m'body'\u001b[0m\u001b[0;34m)\u001b[0m\u001b[0;34m\u001b[0m\u001b[0m\n\u001b[0;32m-> 1152\u001b[0;31m         \u001b[0mself\u001b[0m\u001b[0;34m.\u001b[0m\u001b[0mendheaders\u001b[0m\u001b[0;34m(\u001b[0m\u001b[0mbody\u001b[0m\u001b[0;34m)\u001b[0m\u001b[0;34m\u001b[0m\u001b[0m\n\u001b[0m\u001b[1;32m   1153\u001b[0m \u001b[0;34m\u001b[0m\u001b[0m\n",
      "\u001b[0;32m~/anaconda3/lib/python3.5/http/client.py\u001b[0m in \u001b[0;36mendheaders\u001b[0;34m(self, message_body)\u001b[0m\n\u001b[1;32m   1102\u001b[0m             \u001b[0;32mraise\u001b[0m \u001b[0mCannotSendHeader\u001b[0m\u001b[0;34m(\u001b[0m\u001b[0;34m)\u001b[0m\u001b[0;34m\u001b[0m\u001b[0m\n\u001b[0;32m-> 1103\u001b[0;31m         \u001b[0mself\u001b[0m\u001b[0;34m.\u001b[0m\u001b[0m_send_output\u001b[0m\u001b[0;34m(\u001b[0m\u001b[0mmessage_body\u001b[0m\u001b[0;34m)\u001b[0m\u001b[0;34m\u001b[0m\u001b[0m\n\u001b[0m\u001b[1;32m   1104\u001b[0m \u001b[0;34m\u001b[0m\u001b[0m\n",
      "\u001b[0;32m~/anaconda3/lib/python3.5/http/client.py\u001b[0m in \u001b[0;36m_send_output\u001b[0;34m(self, message_body)\u001b[0m\n\u001b[1;32m    933\u001b[0m \u001b[0;34m\u001b[0m\u001b[0m\n\u001b[0;32m--> 934\u001b[0;31m         \u001b[0mself\u001b[0m\u001b[0;34m.\u001b[0m\u001b[0msend\u001b[0m\u001b[0;34m(\u001b[0m\u001b[0mmsg\u001b[0m\u001b[0;34m)\u001b[0m\u001b[0;34m\u001b[0m\u001b[0m\n\u001b[0m\u001b[1;32m    935\u001b[0m         \u001b[0;32mif\u001b[0m \u001b[0mmessage_body\u001b[0m \u001b[0;32mis\u001b[0m \u001b[0;32mnot\u001b[0m \u001b[0;32mNone\u001b[0m\u001b[0;34m:\u001b[0m\u001b[0;34m\u001b[0m\u001b[0m\n",
      "\u001b[0;32m~/anaconda3/lib/python3.5/http/client.py\u001b[0m in \u001b[0;36msend\u001b[0;34m(self, data)\u001b[0m\n\u001b[1;32m    876\u001b[0m             \u001b[0;32mif\u001b[0m \u001b[0mself\u001b[0m\u001b[0;34m.\u001b[0m\u001b[0mauto_open\u001b[0m\u001b[0;34m:\u001b[0m\u001b[0;34m\u001b[0m\u001b[0m\n\u001b[0;32m--> 877\u001b[0;31m                 \u001b[0mself\u001b[0m\u001b[0;34m.\u001b[0m\u001b[0mconnect\u001b[0m\u001b[0;34m(\u001b[0m\u001b[0;34m)\u001b[0m\u001b[0;34m\u001b[0m\u001b[0m\n\u001b[0m\u001b[1;32m    878\u001b[0m             \u001b[0;32melse\u001b[0m\u001b[0;34m:\u001b[0m\u001b[0;34m\u001b[0m\u001b[0m\n",
      "\u001b[0;32m~/anaconda3/lib/python3.5/site-packages/urllib3/connection.py\u001b[0m in \u001b[0;36mconnect\u001b[0;34m(self)\u001b[0m\n\u001b[1;32m    165\u001b[0m     \u001b[0;32mdef\u001b[0m \u001b[0mconnect\u001b[0m\u001b[0;34m(\u001b[0m\u001b[0mself\u001b[0m\u001b[0;34m)\u001b[0m\u001b[0;34m:\u001b[0m\u001b[0;34m\u001b[0m\u001b[0m\n\u001b[0;32m--> 166\u001b[0;31m         \u001b[0mconn\u001b[0m \u001b[0;34m=\u001b[0m \u001b[0mself\u001b[0m\u001b[0;34m.\u001b[0m\u001b[0m_new_conn\u001b[0m\u001b[0;34m(\u001b[0m\u001b[0;34m)\u001b[0m\u001b[0;34m\u001b[0m\u001b[0m\n\u001b[0m\u001b[1;32m    167\u001b[0m         \u001b[0mself\u001b[0m\u001b[0;34m.\u001b[0m\u001b[0m_prepare_conn\u001b[0m\u001b[0;34m(\u001b[0m\u001b[0mconn\u001b[0m\u001b[0;34m)\u001b[0m\u001b[0;34m\u001b[0m\u001b[0m\n",
      "\u001b[0;32m~/anaconda3/lib/python3.5/site-packages/urllib3/connection.py\u001b[0m in \u001b[0;36m_new_conn\u001b[0;34m(self)\u001b[0m\n\u001b[1;32m    149\u001b[0m             raise NewConnectionError(\n\u001b[0;32m--> 150\u001b[0;31m                 self, \"Failed to establish a new connection: %s\" % e)\n\u001b[0m\u001b[1;32m    151\u001b[0m \u001b[0;34m\u001b[0m\u001b[0m\n",
      "\u001b[0;31mNewConnectionError\u001b[0m: <urllib3.connection.HTTPConnection object at 0x7f943927df98>: Failed to establish a new connection: [Errno 111] Connection refused",
      "\nDuring handling of the above exception, another exception occurred:\n",
      "\u001b[0;31mConnectionError\u001b[0m                           Traceback (most recent call last)",
      "\u001b[0;32m<ipython-input-366-21fa9b49a025>\u001b[0m in \u001b[0;36m<module>\u001b[0;34m()\u001b[0m\n\u001b[1;32m      6\u001b[0m \u001b[0;32mwith\u001b[0m \u001b[0mopen\u001b[0m\u001b[0;34m(\u001b[0m\u001b[0;34m'data_set.csv'\u001b[0m\u001b[0;34m)\u001b[0m \u001b[0;32mas\u001b[0m \u001b[0mf\u001b[0m\u001b[0;34m:\u001b[0m\u001b[0;34m\u001b[0m\u001b[0m\n\u001b[1;32m      7\u001b[0m     \u001b[0mreader\u001b[0m \u001b[0;34m=\u001b[0m \u001b[0mcsv\u001b[0m\u001b[0;34m.\u001b[0m\u001b[0mDictReader\u001b[0m\u001b[0;34m(\u001b[0m\u001b[0mf\u001b[0m\u001b[0;34m)\u001b[0m\u001b[0;34m\u001b[0m\u001b[0m\n\u001b[0;32m----> 8\u001b[0;31m     \u001b[0mhelpers\u001b[0m\u001b[0;34m.\u001b[0m\u001b[0mbulk\u001b[0m\u001b[0;34m(\u001b[0m\u001b[0mes\u001b[0m\u001b[0;34m,\u001b[0m \u001b[0mreader\u001b[0m\u001b[0;34m,\u001b[0m \u001b[0mindex\u001b[0m\u001b[0;34m=\u001b[0m\u001b[0;34m'my-index'\u001b[0m\u001b[0;34m,\u001b[0m \u001b[0mdoc_type\u001b[0m\u001b[0;34m=\u001b[0m\u001b[0;34m'my-type'\u001b[0m\u001b[0;34m)\u001b[0m\u001b[0;34m\u001b[0m\u001b[0m\n\u001b[0m",
      "\u001b[0;32m~/anaconda3/lib/python3.5/site-packages/elasticsearch/helpers/actions.py\u001b[0m in \u001b[0;36mbulk\u001b[0;34m(client, actions, stats_only, *args, **kwargs)\u001b[0m\n\u001b[1;32m    302\u001b[0m     \u001b[0;31m# make streaming_bulk yield successful results so we can count them\u001b[0m\u001b[0;34m\u001b[0m\u001b[0;34m\u001b[0m\u001b[0m\n\u001b[1;32m    303\u001b[0m     \u001b[0mkwargs\u001b[0m\u001b[0;34m[\u001b[0m\u001b[0;34m\"yield_ok\"\u001b[0m\u001b[0;34m]\u001b[0m \u001b[0;34m=\u001b[0m \u001b[0;32mTrue\u001b[0m\u001b[0;34m\u001b[0m\u001b[0m\n\u001b[0;32m--> 304\u001b[0;31m     \u001b[0;32mfor\u001b[0m \u001b[0mok\u001b[0m\u001b[0;34m,\u001b[0m \u001b[0mitem\u001b[0m \u001b[0;32min\u001b[0m \u001b[0mstreaming_bulk\u001b[0m\u001b[0;34m(\u001b[0m\u001b[0mclient\u001b[0m\u001b[0;34m,\u001b[0m \u001b[0mactions\u001b[0m\u001b[0;34m,\u001b[0m \u001b[0;34m*\u001b[0m\u001b[0margs\u001b[0m\u001b[0;34m,\u001b[0m \u001b[0;34m**\u001b[0m\u001b[0mkwargs\u001b[0m\u001b[0;34m)\u001b[0m\u001b[0;34m:\u001b[0m\u001b[0;34m\u001b[0m\u001b[0m\n\u001b[0m\u001b[1;32m    305\u001b[0m         \u001b[0;31m# go through request-response pairs and detect failures\u001b[0m\u001b[0;34m\u001b[0m\u001b[0;34m\u001b[0m\u001b[0m\n\u001b[1;32m    306\u001b[0m         \u001b[0;32mif\u001b[0m \u001b[0;32mnot\u001b[0m \u001b[0mok\u001b[0m\u001b[0;34m:\u001b[0m\u001b[0;34m\u001b[0m\u001b[0m\n",
      "\u001b[0;32m~/anaconda3/lib/python3.5/site-packages/elasticsearch/helpers/actions.py\u001b[0m in \u001b[0;36mstreaming_bulk\u001b[0;34m(client, actions, chunk_size, max_chunk_bytes, raise_on_error, expand_action_callback, raise_on_exception, max_retries, initial_backoff, max_backoff, yield_ok, *args, **kwargs)\u001b[0m\n\u001b[1;32m    232\u001b[0m                         \u001b[0mraise_on_error\u001b[0m\u001b[0;34m,\u001b[0m\u001b[0;34m\u001b[0m\u001b[0m\n\u001b[1;32m    233\u001b[0m                         \u001b[0;34m*\u001b[0m\u001b[0margs\u001b[0m\u001b[0;34m,\u001b[0m\u001b[0;34m\u001b[0m\u001b[0m\n\u001b[0;32m--> 234\u001b[0;31m                         \u001b[0;34m**\u001b[0m\u001b[0mkwargs\u001b[0m\u001b[0;34m\u001b[0m\u001b[0m\n\u001b[0m\u001b[1;32m    235\u001b[0m                     ),\n\u001b[1;32m    236\u001b[0m                 ):\n",
      "\u001b[0;32m~/anaconda3/lib/python3.5/site-packages/elasticsearch/helpers/actions.py\u001b[0m in \u001b[0;36m_process_bulk_chunk\u001b[0;34m(client, bulk_actions, bulk_data, raise_on_exception, raise_on_error, *args, **kwargs)\u001b[0m\n\u001b[1;32m    118\u001b[0m         \u001b[0;31m# default behavior - just propagate exception\u001b[0m\u001b[0;34m\u001b[0m\u001b[0;34m\u001b[0m\u001b[0m\n\u001b[1;32m    119\u001b[0m         \u001b[0;32mif\u001b[0m \u001b[0mraise_on_exception\u001b[0m\u001b[0;34m:\u001b[0m\u001b[0;34m\u001b[0m\u001b[0m\n\u001b[0;32m--> 120\u001b[0;31m             \u001b[0;32mraise\u001b[0m \u001b[0me\u001b[0m\u001b[0;34m\u001b[0m\u001b[0m\n\u001b[0m\u001b[1;32m    121\u001b[0m \u001b[0;34m\u001b[0m\u001b[0m\n\u001b[1;32m    122\u001b[0m         \u001b[0;31m# if we are not propagating, mark all actions in current chunk as failed\u001b[0m\u001b[0;34m\u001b[0m\u001b[0;34m\u001b[0m\u001b[0m\n",
      "\u001b[0;32m~/anaconda3/lib/python3.5/site-packages/elasticsearch/helpers/actions.py\u001b[0m in \u001b[0;36m_process_bulk_chunk\u001b[0;34m(client, bulk_actions, bulk_data, raise_on_exception, raise_on_error, *args, **kwargs)\u001b[0m\n\u001b[1;32m    114\u001b[0m     \u001b[0;32mtry\u001b[0m\u001b[0;34m:\u001b[0m\u001b[0;34m\u001b[0m\u001b[0m\n\u001b[1;32m    115\u001b[0m         \u001b[0;31m# send the actual request\u001b[0m\u001b[0;34m\u001b[0m\u001b[0;34m\u001b[0m\u001b[0m\n\u001b[0;32m--> 116\u001b[0;31m         \u001b[0mresp\u001b[0m \u001b[0;34m=\u001b[0m \u001b[0mclient\u001b[0m\u001b[0;34m.\u001b[0m\u001b[0mbulk\u001b[0m\u001b[0;34m(\u001b[0m\u001b[0;34m\"\\n\"\u001b[0m\u001b[0;34m.\u001b[0m\u001b[0mjoin\u001b[0m\u001b[0;34m(\u001b[0m\u001b[0mbulk_actions\u001b[0m\u001b[0;34m)\u001b[0m \u001b[0;34m+\u001b[0m \u001b[0;34m\"\\n\"\u001b[0m\u001b[0;34m,\u001b[0m \u001b[0;34m*\u001b[0m\u001b[0margs\u001b[0m\u001b[0;34m,\u001b[0m \u001b[0;34m**\u001b[0m\u001b[0mkwargs\u001b[0m\u001b[0;34m)\u001b[0m\u001b[0;34m\u001b[0m\u001b[0m\n\u001b[0m\u001b[1;32m    117\u001b[0m     \u001b[0;32mexcept\u001b[0m \u001b[0mTransportError\u001b[0m \u001b[0;32mas\u001b[0m \u001b[0me\u001b[0m\u001b[0;34m:\u001b[0m\u001b[0;34m\u001b[0m\u001b[0m\n\u001b[1;32m    118\u001b[0m         \u001b[0;31m# default behavior - just propagate exception\u001b[0m\u001b[0;34m\u001b[0m\u001b[0;34m\u001b[0m\u001b[0m\n",
      "\u001b[0;32m~/anaconda3/lib/python3.5/site-packages/elasticsearch/client/utils.py\u001b[0m in \u001b[0;36m_wrapped\u001b[0;34m(*args, **kwargs)\u001b[0m\n\u001b[1;32m     82\u001b[0m                 \u001b[0;32mif\u001b[0m \u001b[0mp\u001b[0m \u001b[0;32min\u001b[0m \u001b[0mkwargs\u001b[0m\u001b[0;34m:\u001b[0m\u001b[0;34m\u001b[0m\u001b[0m\n\u001b[1;32m     83\u001b[0m                     \u001b[0mparams\u001b[0m\u001b[0;34m[\u001b[0m\u001b[0mp\u001b[0m\u001b[0;34m]\u001b[0m \u001b[0;34m=\u001b[0m \u001b[0mkwargs\u001b[0m\u001b[0;34m.\u001b[0m\u001b[0mpop\u001b[0m\u001b[0;34m(\u001b[0m\u001b[0mp\u001b[0m\u001b[0;34m)\u001b[0m\u001b[0;34m\u001b[0m\u001b[0m\n\u001b[0;32m---> 84\u001b[0;31m             \u001b[0;32mreturn\u001b[0m \u001b[0mfunc\u001b[0m\u001b[0;34m(\u001b[0m\u001b[0;34m*\u001b[0m\u001b[0margs\u001b[0m\u001b[0;34m,\u001b[0m \u001b[0mparams\u001b[0m\u001b[0;34m=\u001b[0m\u001b[0mparams\u001b[0m\u001b[0;34m,\u001b[0m \u001b[0;34m**\u001b[0m\u001b[0mkwargs\u001b[0m\u001b[0;34m)\u001b[0m\u001b[0;34m\u001b[0m\u001b[0m\n\u001b[0m\u001b[1;32m     85\u001b[0m \u001b[0;34m\u001b[0m\u001b[0m\n\u001b[1;32m     86\u001b[0m         \u001b[0;32mreturn\u001b[0m \u001b[0m_wrapped\u001b[0m\u001b[0;34m\u001b[0m\u001b[0m\n",
      "\u001b[0;32m~/anaconda3/lib/python3.5/site-packages/elasticsearch/client/__init__.py\u001b[0m in \u001b[0;36mbulk\u001b[0;34m(self, body, index, doc_type, params)\u001b[0m\n\u001b[1;32m    447\u001b[0m         \u001b[0mbody\u001b[0m \u001b[0;34m=\u001b[0m \u001b[0m_bulk_body\u001b[0m\u001b[0;34m(\u001b[0m\u001b[0mself\u001b[0m\u001b[0;34m.\u001b[0m\u001b[0mtransport\u001b[0m\u001b[0;34m.\u001b[0m\u001b[0mserializer\u001b[0m\u001b[0;34m,\u001b[0m \u001b[0mbody\u001b[0m\u001b[0;34m)\u001b[0m\u001b[0;34m\u001b[0m\u001b[0m\n\u001b[1;32m    448\u001b[0m         return self.transport.perform_request(\n\u001b[0;32m--> 449\u001b[0;31m             \u001b[0;34m\"POST\"\u001b[0m\u001b[0;34m,\u001b[0m \u001b[0m_make_path\u001b[0m\u001b[0;34m(\u001b[0m\u001b[0mindex\u001b[0m\u001b[0;34m,\u001b[0m \u001b[0mdoc_type\u001b[0m\u001b[0;34m,\u001b[0m \u001b[0;34m\"_bulk\"\u001b[0m\u001b[0;34m)\u001b[0m\u001b[0;34m,\u001b[0m \u001b[0mparams\u001b[0m\u001b[0;34m=\u001b[0m\u001b[0mparams\u001b[0m\u001b[0;34m,\u001b[0m \u001b[0mbody\u001b[0m\u001b[0;34m=\u001b[0m\u001b[0mbody\u001b[0m\u001b[0;34m\u001b[0m\u001b[0m\n\u001b[0m\u001b[1;32m    450\u001b[0m         )\n\u001b[1;32m    451\u001b[0m \u001b[0;34m\u001b[0m\u001b[0m\n",
      "\u001b[0;32m~/anaconda3/lib/python3.5/site-packages/elasticsearch/transport.py\u001b[0m in \u001b[0;36mperform_request\u001b[0;34m(self, method, url, headers, params, body)\u001b[0m\n\u001b[1;32m    356\u001b[0m                     \u001b[0mheaders\u001b[0m\u001b[0;34m=\u001b[0m\u001b[0mheaders\u001b[0m\u001b[0;34m,\u001b[0m\u001b[0;34m\u001b[0m\u001b[0m\n\u001b[1;32m    357\u001b[0m                     \u001b[0mignore\u001b[0m\u001b[0;34m=\u001b[0m\u001b[0mignore\u001b[0m\u001b[0;34m,\u001b[0m\u001b[0;34m\u001b[0m\u001b[0m\n\u001b[0;32m--> 358\u001b[0;31m                     \u001b[0mtimeout\u001b[0m\u001b[0;34m=\u001b[0m\u001b[0mtimeout\u001b[0m\u001b[0;34m,\u001b[0m\u001b[0;34m\u001b[0m\u001b[0m\n\u001b[0m\u001b[1;32m    359\u001b[0m                 )\n\u001b[1;32m    360\u001b[0m \u001b[0;34m\u001b[0m\u001b[0m\n",
      "\u001b[0;32m~/anaconda3/lib/python3.5/site-packages/elasticsearch/connection/http_urllib3.py\u001b[0m in \u001b[0;36mperform_request\u001b[0;34m(self, method, url, params, body, timeout, ignore, headers)\u001b[0m\n\u001b[1;32m    252\u001b[0m             \u001b[0;32mif\u001b[0m \u001b[0misinstance\u001b[0m\u001b[0;34m(\u001b[0m\u001b[0me\u001b[0m\u001b[0;34m,\u001b[0m \u001b[0mReadTimeoutError\u001b[0m\u001b[0;34m)\u001b[0m\u001b[0;34m:\u001b[0m\u001b[0;34m\u001b[0m\u001b[0m\n\u001b[1;32m    253\u001b[0m                 \u001b[0;32mraise\u001b[0m \u001b[0mConnectionTimeout\u001b[0m\u001b[0;34m(\u001b[0m\u001b[0;34m\"TIMEOUT\"\u001b[0m\u001b[0;34m,\u001b[0m \u001b[0mstr\u001b[0m\u001b[0;34m(\u001b[0m\u001b[0me\u001b[0m\u001b[0;34m)\u001b[0m\u001b[0;34m,\u001b[0m \u001b[0me\u001b[0m\u001b[0;34m)\u001b[0m\u001b[0;34m\u001b[0m\u001b[0m\n\u001b[0;32m--> 254\u001b[0;31m             \u001b[0;32mraise\u001b[0m \u001b[0mConnectionError\u001b[0m\u001b[0;34m(\u001b[0m\u001b[0;34m\"N/A\"\u001b[0m\u001b[0;34m,\u001b[0m \u001b[0mstr\u001b[0m\u001b[0;34m(\u001b[0m\u001b[0me\u001b[0m\u001b[0;34m)\u001b[0m\u001b[0;34m,\u001b[0m \u001b[0me\u001b[0m\u001b[0;34m)\u001b[0m\u001b[0;34m\u001b[0m\u001b[0m\n\u001b[0m\u001b[1;32m    255\u001b[0m \u001b[0;34m\u001b[0m\u001b[0m\n\u001b[1;32m    256\u001b[0m         \u001b[0;31m# raise errors based on http status codes, let the client handle those if needed\u001b[0m\u001b[0;34m\u001b[0m\u001b[0;34m\u001b[0m\u001b[0m\n",
      "\u001b[0;31mConnectionError\u001b[0m: ConnectionError(<urllib3.connection.HTTPConnection object at 0x7f943927df98>: Failed to establish a new connection: [Errno 111] Connection refused) caused by: NewConnectionError(<urllib3.connection.HTTPConnection object at 0x7f943927df98>: Failed to establish a new connection: [Errno 111] Connection refused)"
     ]
    }
   ],
   "source": [
    "from elasticsearch import helpers, Elasticsearch\n",
    "import csv\n",
    "\n",
    "es = Elasticsearch()\n",
    "\n",
    "with open('data_set.csv') as f:\n",
    "    reader = csv.DictReader(f)\n",
    "    helpers.bulk(es, reader, index='my-index', doc_type='my-type')"
   ]
  },
  {
   "cell_type": "code",
   "execution_count": 438,
   "metadata": {},
   "outputs": [],
   "source": [
    "tmp_json = df[df.CIN=='U80900MH2020NPL335760'].to_json()"
   ]
  },
  {
   "cell_type": "code",
   "execution_count": null,
   "metadata": {},
   "outputs": [],
   "source": [
    "tmp_json = df[df.CIN=='U80900MH2020NPL335760'].to_json\n"
   ]
  },
  {
   "cell_type": "code",
   "execution_count": 444,
   "metadata": {},
   "outputs": [],
   "source": [
    "import pandas as pd"
   ]
  },
  {
   "cell_type": "code",
   "execution_count": 448,
   "metadata": {},
   "outputs": [
    {
     "data": {
      "text/plain": [
       "'0.22.0'"
      ]
     },
     "execution_count": 448,
     "metadata": {},
     "output_type": "execute_result"
    }
   ],
   "source": [
    "pd.__version__"
   ]
  },
  {
   "cell_type": "code",
   "execution_count": 452,
   "metadata": {},
   "outputs": [],
   "source": [
    "tmp_json = df[df.CIN=='U80900MH2020NPL335760'].to_json()"
   ]
  },
  {
   "cell_type": "code",
   "execution_count": 453,
   "metadata": {},
   "outputs": [],
   "source": [
    "import json"
   ]
  },
  {
   "cell_type": "code",
   "execution_count": 455,
   "metadata": {},
   "outputs": [
    {
     "data": {
      "text/html": [
       "<div>\n",
       "<style scoped>\n",
       "    .dataframe tbody tr th:only-of-type {\n",
       "        vertical-align: middle;\n",
       "    }\n",
       "\n",
       "    .dataframe tbody tr th {\n",
       "        vertical-align: top;\n",
       "    }\n",
       "\n",
       "    .dataframe thead th {\n",
       "        text-align: right;\n",
       "    }\n",
       "</style>\n",
       "<table border=\"1\" class=\"dataframe\">\n",
       "  <thead>\n",
       "    <tr style=\"text-align: right;\">\n",
       "      <th></th>\n",
       "      <th>ACTIVITY CODE</th>\n",
       "      <th>ACTIVITY DESCRIPTION</th>\n",
       "      <th>AUTHORIZED CAPITAL</th>\n",
       "      <th>CATEGORY</th>\n",
       "      <th>CIN</th>\n",
       "      <th>CLASS</th>\n",
       "      <th>COMPANY NAME</th>\n",
       "      <th>COMPANY STATUS</th>\n",
       "      <th>COMPANY TYPE</th>\n",
       "      <th>COMPANY_AGE</th>\n",
       "      <th>...</th>\n",
       "      <th>YEAR</th>\n",
       "      <th>clusters</th>\n",
       "      <th>clusters_2</th>\n",
       "      <th>clusters_3</th>\n",
       "      <th>clusters_optimal_cluster</th>\n",
       "      <th>x1</th>\n",
       "      <th>x2</th>\n",
       "      <th>x3</th>\n",
       "      <th>x4</th>\n",
       "      <th>x5</th>\n",
       "    </tr>\n",
       "  </thead>\n",
       "  <tbody>\n",
       "    <tr>\n",
       "      <th>4</th>\n",
       "      <td>80900</td>\n",
       "      <td>Community, personal &amp; Social Services</td>\n",
       "      <td>0</td>\n",
       "      <td>Company Limited by Guarantee</td>\n",
       "      <td>U80900MH2020NPL335760</td>\n",
       "      <td>Private</td>\n",
       "      <td>VANITA VIDYA E-S FOUNDATION</td>\n",
       "      <td>Active</td>\n",
       "      <td>Non-government</td>\n",
       "      <td>37</td>\n",
       "      <td>...</td>\n",
       "      <td>2020</td>\n",
       "      <td>0</td>\n",
       "      <td>0</td>\n",
       "      <td>0</td>\n",
       "      <td>26</td>\n",
       "      <td>0.327139</td>\n",
       "      <td>0.103559</td>\n",
       "      <td>0.987207</td>\n",
       "      <td>0.886845</td>\n",
       "      <td>0.344866</td>\n",
       "    </tr>\n",
       "  </tbody>\n",
       "</table>\n",
       "<p>1 rows × 28 columns</p>\n",
       "</div>"
      ],
      "text/plain": [
       "   ACTIVITY CODE                   ACTIVITY DESCRIPTION  AUTHORIZED CAPITAL  \\\n",
       "4          80900  Community, personal & Social Services                   0   \n",
       "\n",
       "                       CATEGORY                    CIN    CLASS  \\\n",
       "4  Company Limited by Guarantee  U80900MH2020NPL335760  Private   \n",
       "\n",
       "                  COMPANY NAME COMPANY STATUS    COMPANY TYPE  COMPANY_AGE  \\\n",
       "4  VANITA VIDYA E-S FOUNDATION         Active  Non-government           37   \n",
       "\n",
       "     ...     YEAR clusters  clusters_2 clusters_3  clusters_optimal_cluster  \\\n",
       "4    ...     2020        0           0          0                        26   \n",
       "\n",
       "         x1        x2        x3        x4        x5  \n",
       "4  0.327139  0.103559  0.987207  0.886845  0.344866  \n",
       "\n",
       "[1 rows x 28 columns]"
      ]
     },
     "execution_count": 455,
     "metadata": {},
     "output_type": "execute_result"
    }
   ],
   "source": [
    "d = json.loads(tmp_json)\n",
    "pd.DataFrame(d)"
   ]
  },
  {
   "cell_type": "code",
   "execution_count": 374,
   "metadata": {},
   "outputs": [],
   "source": [
    "from sklearn.preprocessing import LabelBinarizer"
   ]
  },
  {
   "cell_type": "code",
   "execution_count": 375,
   "metadata": {},
   "outputs": [],
   "source": [
    "lb = LabelBinarizer()"
   ]
  },
  {
   "cell_type": "code",
   "execution_count": 377,
   "metadata": {},
   "outputs": [
    {
     "data": {
      "text/plain": [
       "['STATE',\n",
       " 'ROC',\n",
       " 'COMPANY STATUS',\n",
       " 'CATEGORY',\n",
       " 'CLASS',\n",
       " 'COMPANY TYPE',\n",
       " 'ACTIVITY DESCRIPTION']"
      ]
     },
     "execution_count": 377,
     "metadata": {},
     "output_type": "execute_result"
    }
   ],
   "source": [
    "selected_features"
   ]
  },
  {
   "cell_type": "code",
   "execution_count": 410,
   "metadata": {},
   "outputs": [],
   "source": [
    "X_transformed = pd.DataFrame()"
   ]
  },
  {
   "cell_type": "code",
   "execution_count": 413,
   "metadata": {},
   "outputs": [],
   "source": [
    "binarizors = {}"
   ]
  },
  {
   "cell_type": "code",
   "execution_count": 414,
   "metadata": {},
   "outputs": [
    {
     "name": "stdout",
     "output_type": "stream",
     "text": [
      "(12737, 119)\n",
      "(12737, 145)\n",
      "(12737, 146)\n",
      "(12737, 147)\n",
      "(12737, 150)\n",
      "(12737, 151)\n",
      "(12737, 170)\n"
     ]
    }
   ],
   "source": [
    "for col in selected_features:\n",
    "    \n",
    "    lb = LabelBinarizer()\n",
    "    lb.fit(df[col])\n",
    "    binarizors[col] = lb\n",
    "    tmp_trans = lb.transform(df[col])\n",
    "    columns = lb.classes_[:tmp_trans.shape[1]]\n",
    "    tmp_df = pd.DataFrame(lb.transform(df[col]) , columns=columns)\n",
    "    X_transformed = pd.concat([X_transformed, tmp_df], axis=1)\n",
    "    print(X_transformed.shape)\n"
   ]
  },
  {
   "cell_type": "code",
   "execution_count": 415,
   "metadata": {},
   "outputs": [
    {
     "data": {
      "text/plain": [
       "{'ACTIVITY DESCRIPTION': LabelBinarizer(neg_label=0, pos_label=1, sparse_output=False),\n",
       " 'CATEGORY': LabelBinarizer(neg_label=0, pos_label=1, sparse_output=False),\n",
       " 'CLASS': LabelBinarizer(neg_label=0, pos_label=1, sparse_output=False),\n",
       " 'COMPANY STATUS': LabelBinarizer(neg_label=0, pos_label=1, sparse_output=False),\n",
       " 'COMPANY TYPE': LabelBinarizer(neg_label=0, pos_label=1, sparse_output=False),\n",
       " 'ROC': LabelBinarizer(neg_label=0, pos_label=1, sparse_output=False),\n",
       " 'STATE': LabelBinarizer(neg_label=0, pos_label=1, sparse_output=False)}"
      ]
     },
     "execution_count": 415,
     "metadata": {},
     "output_type": "execute_result"
    }
   ],
   "source": [
    "binarizors"
   ]
  },
  {
   "cell_type": "code",
   "execution_count": 416,
   "metadata": {},
   "outputs": [],
   "source": [
    "import pickle"
   ]
  },
  {
   "cell_type": "code",
   "execution_count": 426,
   "metadata": {},
   "outputs": [],
   "source": [
    "with open('tmp','wb') as b:\n",
    "    pickle.dump(binarizors, b)"
   ]
  },
  {
   "cell_type": "code",
   "execution_count": 428,
   "metadata": {},
   "outputs": [
    {
     "name": "stdout",
     "output_type": "stream",
     "text": [
      "{'ROC': LabelBinarizer(neg_label=0, pos_label=1, sparse_output=False), 'CLASS': LabelBinarizer(neg_label=0, pos_label=1, sparse_output=False), 'COMPANY STATUS': LabelBinarizer(neg_label=0, pos_label=1, sparse_output=False), 'CATEGORY': LabelBinarizer(neg_label=0, pos_label=1, sparse_output=False), 'COMPANY TYPE': LabelBinarizer(neg_label=0, pos_label=1, sparse_output=False), 'ACTIVITY DESCRIPTION': LabelBinarizer(neg_label=0, pos_label=1, sparse_output=False), 'STATE': LabelBinarizer(neg_label=0, pos_label=1, sparse_output=False)}\n"
     ]
    }
   ],
   "source": [
    "with open('tmp','rb') as b:\n",
    "    print(pickle.load(b))"
   ]
  },
  {
   "cell_type": "code",
   "execution_count": 463,
   "metadata": {},
   "outputs": [
    {
     "data": {
      "text/plain": [
       "False"
      ]
     },
     "execution_count": 463,
     "metadata": {},
     "output_type": "execute_result"
    }
   ],
   "source": [
    "df['x1'].dtype == 'float64'"
   ]
  },
  {
   "cell_type": "code",
   "execution_count": 468,
   "metadata": {},
   "outputs": [
    {
     "data": {
      "text/plain": [
       "True"
      ]
     },
     "execution_count": 468,
     "metadata": {},
     "output_type": "execute_result"
    }
   ],
   "source": [
    "df['x1'].dtype != 'float64'"
   ]
  },
  {
   "cell_type": "code",
   "execution_count": null,
   "metadata": {},
   "outputs": [],
   "source": [
    "def find_score(CIN, row):\n",
    "    cin = row['CIN']"
   ]
  },
  {
   "cell_type": "code",
   "execution_count": 475,
   "metadata": {},
   "outputs": [
    {
     "data": {
      "text/plain": [
       "0        (24,)\n",
       "1        (24,)\n",
       "2        (24,)\n",
       "3        (24,)\n",
       "4        (24,)\n",
       "5        (24,)\n",
       "6        (24,)\n",
       "7        (24,)\n",
       "8        (24,)\n",
       "9        (24,)\n",
       "10       (24,)\n",
       "11       (24,)\n",
       "12       (24,)\n",
       "13       (24,)\n",
       "14       (24,)\n",
       "15       (24,)\n",
       "16       (24,)\n",
       "17       (24,)\n",
       "18       (24,)\n",
       "19       (24,)\n",
       "20       (24,)\n",
       "21       (24,)\n",
       "22       (24,)\n",
       "23       (24,)\n",
       "24       (24,)\n",
       "25       (24,)\n",
       "26       (24,)\n",
       "27       (24,)\n",
       "28       (24,)\n",
       "29       (24,)\n",
       "         ...  \n",
       "12719    (24,)\n",
       "12720    (24,)\n",
       "12721    (24,)\n",
       "12722    (24,)\n",
       "12723    (24,)\n",
       "12724    (24,)\n",
       "12725    (24,)\n",
       "12726    (24,)\n",
       "12727    (24,)\n",
       "12728    (24,)\n",
       "12729    (24,)\n",
       "12730    (24,)\n",
       "12731    (24,)\n",
       "12732    (24,)\n",
       "12733    (24,)\n",
       "12734    (24,)\n",
       "12735    (24,)\n",
       "12736    (24,)\n",
       "12737    (24,)\n",
       "12738    (24,)\n",
       "12739    (24,)\n",
       "12740    (24,)\n",
       "12741    (24,)\n",
       "12742    (24,)\n",
       "12743    (24,)\n",
       "12744    (24,)\n",
       "12745    (24,)\n",
       "12746    (24,)\n",
       "12747    (24,)\n",
       "12748    (24,)\n",
       "Length: 12749, dtype: object"
      ]
     },
     "execution_count": 475,
     "metadata": {},
     "output_type": "execute_result"
    }
   ],
   "source": [
    "df.apply(lambda x: x.shape, axis=1)"
   ]
  },
  {
   "cell_type": "code",
   "execution_count": 476,
   "metadata": {},
   "outputs": [
    {
     "data": {
      "text/html": [
       "<div>\n",
       "<style scoped>\n",
       "    .dataframe tbody tr th:only-of-type {\n",
       "        vertical-align: middle;\n",
       "    }\n",
       "\n",
       "    .dataframe tbody tr th {\n",
       "        vertical-align: top;\n",
       "    }\n",
       "\n",
       "    .dataframe thead th {\n",
       "        text-align: right;\n",
       "    }\n",
       "</style>\n",
       "<table border=\"1\" class=\"dataframe\">\n",
       "  <thead>\n",
       "    <tr style=\"text-align: right;\">\n",
       "      <th></th>\n",
       "      <th>CIN</th>\n",
       "      <th>COMPANY NAME</th>\n",
       "      <th>DATE OF REGISTRATION</th>\n",
       "      <th>MONTH NAME</th>\n",
       "      <th>STATE</th>\n",
       "      <th>ROC</th>\n",
       "      <th>COMPANY STATUS</th>\n",
       "      <th>CATEGORY</th>\n",
       "      <th>CLASS</th>\n",
       "      <th>COMPANY TYPE</th>\n",
       "      <th>...</th>\n",
       "      <th>REGISTERED OFFICE ADDRESS</th>\n",
       "      <th>EMAIL</th>\n",
       "      <th>x1</th>\n",
       "      <th>x2</th>\n",
       "      <th>x3</th>\n",
       "      <th>x4</th>\n",
       "      <th>x5</th>\n",
       "      <th>Unnamed: 21</th>\n",
       "      <th>Unnamed: 22</th>\n",
       "      <th>Unnamed: 23</th>\n",
       "    </tr>\n",
       "  </thead>\n",
       "  <tbody>\n",
       "  </tbody>\n",
       "</table>\n",
       "<p>0 rows × 24 columns</p>\n",
       "</div>"
      ],
      "text/plain": [
       "Empty DataFrame\n",
       "Columns: [CIN, COMPANY NAME, DATE OF REGISTRATION, MONTH NAME, STATE, ROC, COMPANY STATUS, CATEGORY, CLASS, COMPANY TYPE, AUTHORIZED CAPITAL, PAIDUP CAPITAL, ACTIVITY CODE, ACTIVITY DESCRIPTION, REGISTERED OFFICE ADDRESS, EMAIL, x1, x2, x3, x4, x5, Unnamed: 21, Unnamed: 22, Unnamed: 23]\n",
       "Index: []\n",
       "\n",
       "[0 rows x 24 columns]"
      ]
     },
     "execution_count": 476,
     "metadata": {},
     "output_type": "execute_result"
    }
   ],
   "source": [
    "df[df['CIN']=='dfs']"
   ]
  },
  {
   "cell_type": "code",
   "execution_count": 478,
   "metadata": {},
   "outputs": [],
   "source": [
    "mask = df['CIN'].apply(lambda x: x=='dfs')"
   ]
  },
  {
   "cell_type": "code",
   "execution_count": 479,
   "metadata": {},
   "outputs": [
    {
     "data": {
      "text/html": [
       "<div>\n",
       "<style scoped>\n",
       "    .dataframe tbody tr th:only-of-type {\n",
       "        vertical-align: middle;\n",
       "    }\n",
       "\n",
       "    .dataframe tbody tr th {\n",
       "        vertical-align: top;\n",
       "    }\n",
       "\n",
       "    .dataframe thead th {\n",
       "        text-align: right;\n",
       "    }\n",
       "</style>\n",
       "<table border=\"1\" class=\"dataframe\">\n",
       "  <thead>\n",
       "    <tr style=\"text-align: right;\">\n",
       "      <th></th>\n",
       "      <th>CIN</th>\n",
       "      <th>COMPANY NAME</th>\n",
       "      <th>DATE OF REGISTRATION</th>\n",
       "      <th>MONTH NAME</th>\n",
       "      <th>STATE</th>\n",
       "      <th>ROC</th>\n",
       "      <th>COMPANY STATUS</th>\n",
       "      <th>CATEGORY</th>\n",
       "      <th>CLASS</th>\n",
       "      <th>COMPANY TYPE</th>\n",
       "      <th>...</th>\n",
       "      <th>REGISTERED OFFICE ADDRESS</th>\n",
       "      <th>EMAIL</th>\n",
       "      <th>x1</th>\n",
       "      <th>x2</th>\n",
       "      <th>x3</th>\n",
       "      <th>x4</th>\n",
       "      <th>x5</th>\n",
       "      <th>Unnamed: 21</th>\n",
       "      <th>Unnamed: 22</th>\n",
       "      <th>Unnamed: 23</th>\n",
       "    </tr>\n",
       "  </thead>\n",
       "  <tbody>\n",
       "  </tbody>\n",
       "</table>\n",
       "<p>0 rows × 24 columns</p>\n",
       "</div>"
      ],
      "text/plain": [
       "Empty DataFrame\n",
       "Columns: [CIN, COMPANY NAME, DATE OF REGISTRATION, MONTH NAME, STATE, ROC, COMPANY STATUS, CATEGORY, CLASS, COMPANY TYPE, AUTHORIZED CAPITAL, PAIDUP CAPITAL, ACTIVITY CODE, ACTIVITY DESCRIPTION, REGISTERED OFFICE ADDRESS, EMAIL, x1, x2, x3, x4, x5, Unnamed: 21, Unnamed: 22, Unnamed: 23]\n",
       "Index: []\n",
       "\n",
       "[0 rows x 24 columns]"
      ]
     },
     "execution_count": 479,
     "metadata": {},
     "output_type": "execute_result"
    }
   ],
   "source": [
    "df[mask]"
   ]
  },
  {
   "cell_type": "code",
   "execution_count": 490,
   "metadata": {},
   "outputs": [
    {
     "data": {
      "text/plain": [
       "0     0.057527\n",
       "1     0.304533\n",
       "2     0.066695\n",
       "3     0.120295\n",
       "4     0.163570\n",
       "5     0.429569\n",
       "6     0.333045\n",
       "7     0.270581\n",
       "8     0.014507\n",
       "9     0.366874\n",
       "10    0.197475\n",
       "11    0.401024\n",
       "12    0.127211\n",
       "13    0.028442\n",
       "14    0.433324\n",
       "15    0.110514\n",
       "16    0.202495\n",
       "17    0.158048\n",
       "18    0.038331\n",
       "19    0.421612\n",
       "20    0.424470\n",
       "21    0.485733\n",
       "22    0.192688\n",
       "23    0.477244\n",
       "24    0.222879\n",
       "25    0.334862\n",
       "26    0.041250\n",
       "27    0.448549\n",
       "28    0.149002\n",
       "29    0.131152\n",
       "        ...   \n",
       "70    0.294052\n",
       "71    0.122672\n",
       "72    0.373885\n",
       "73    0.360073\n",
       "74    0.347630\n",
       "75    0.051371\n",
       "76    0.471821\n",
       "77    0.251670\n",
       "78    0.449837\n",
       "79    0.099290\n",
       "80    0.297225\n",
       "81    0.482704\n",
       "82    0.499349\n",
       "83    0.012084\n",
       "84    0.240652\n",
       "85    0.145711\n",
       "86    0.031860\n",
       "87    0.284812\n",
       "88    0.002542\n",
       "89    0.305639\n",
       "90    0.435091\n",
       "91    0.441801\n",
       "92    0.477160\n",
       "93    0.369932\n",
       "94    0.092356\n",
       "95    0.217339\n",
       "96    0.442950\n",
       "97    0.127523\n",
       "98    0.221656\n",
       "99    0.308468\n",
       "Length: 100, dtype: float64"
      ]
     },
     "execution_count": 490,
     "metadata": {},
     "output_type": "execute_result"
    }
   ],
   "source": [
    "df[:100].apply(lambda x: float(x['x1'])/2, axis=1)"
   ]
  },
  {
   "cell_type": "code",
   "execution_count": 513,
   "metadata": {},
   "outputs": [],
   "source": [
    "\n",
    "def loan_score(private_info):\n",
    "    coffecients = [0.717, 0.847 , 0.42 , 3.107 , 0.998]    \n",
    "    score = np.dot(coffecients, private_info)\n",
    "    return score \n",
    "\n",
    "def fetch_private_information(row):\n",
    "    try:\n",
    "        # row = [df.CIN==input_cin]\n",
    "        private_features = ['x1','x2','x3','x4','x5']\n",
    "        print(row[private_features].values)\n",
    "        private_info = list(map(lambda x: float(x), row[private_features].values[0]))\n",
    "        return private_info\n",
    "    except:\n",
    "        print(row[private_features].values[0])\n",
    "        return [0,0,0,0,0]\n",
    "    \n",
    "def find_score(row):\n",
    "    try:\n",
    "        # print(\"find_score:\",row)\n",
    "        pinfo = fetch_private_information(row)\n",
    "        score = loan_score(pinfo)\n",
    "        print(\"Current score:\", score)\n",
    "        return score\n",
    "    except Exception as eobj:\n",
    "        print(\"Find score Exception\",eobj)\n",
    "        return 0\n"
   ]
  },
  {
   "cell_type": "code",
   "execution_count": 514,
   "metadata": {},
   "outputs": [
    {
     "name": "stdout",
     "output_type": "stream",
     "text": [
      "['0.1150545664' '0.0623619642' '0.3396891476' 0.7940172447\n",
      " 0.08471566050000001]\n",
      "0.1150545664\n",
      "Current score: 0.0\n"
     ]
    }
   ],
   "source": [
    "tmp = df[:1].apply(lambda x: find_score(x), axis=1)"
   ]
  },
  {
   "cell_type": "code",
   "execution_count": 512,
   "metadata": {},
   "outputs": [
    {
     "data": {
      "text/plain": [
       "0    0.0\n",
       "dtype: float64"
      ]
     },
     "execution_count": 512,
     "metadata": {},
     "output_type": "execute_result"
    }
   ],
   "source": [
    "tmp"
   ]
  },
  {
   "cell_type": "code",
   "execution_count": null,
   "metadata": {},
   "outputs": [],
   "source": []
  }
 ],
 "metadata": {
  "kernelspec": {
   "display_name": "Python 3",
   "language": "python",
   "name": "python3"
  },
  "language_info": {
   "codemirror_mode": {
    "name": "ipython",
    "version": 3
   },
   "file_extension": ".py",
   "mimetype": "text/x-python",
   "name": "python",
   "nbconvert_exporter": "python",
   "pygments_lexer": "ipython3",
   "version": "3.5.4"
  }
 },
 "nbformat": 4,
 "nbformat_minor": 2
}
